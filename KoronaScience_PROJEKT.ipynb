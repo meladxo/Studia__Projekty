{
  "nbformat": 4,
  "nbformat_minor": 0,
  "metadata": {
    "colab": {
      "name": "KoronaScience PROJEKT",
      "provenance": [],
      "collapsed_sections": [],
      "authorship_tag": "ABX9TyPCsvJi0yNDHNGIoaT1CO2H",
      "include_colab_link": true
    },
    "kernelspec": {
      "name": "python3",
      "display_name": "Python 3"
    }
  },
  "cells": [
    {
      "cell_type": "markdown",
      "metadata": {
        "id": "view-in-github",
        "colab_type": "text"
      },
      "source": [
        "<a href=\"https://colab.research.google.com/github/meladxo/Studia__Projekty/blob/main/KoronaScience_PROJEKT.ipynb\" target=\"_parent\"><img src=\"https://colab.research.google.com/assets/colab-badge.svg\" alt=\"Open In Colab\"/></a>"
      ]
    },
    {
      "cell_type": "markdown",
      "metadata": {
        "id": "tzIhW_R3XcX3"
      },
      "source": [
        "# **PROJEKT : Indeks gotowości służby zdrowia na wystąpienie epidemii koronawirusa oraz przyjęcie pacjentów chorych na COVID-19.**\n",
        "\n",
        "KoronaScience - Kurs z podstaw Data Science w Pythonie\n",
        "\n",
        "Autor: Jagienka Wójcik"
      ]
    },
    {
      "cell_type": "markdown",
      "metadata": {
        "id": "pq1eruS7OvGB"
      },
      "source": [
        "## Import biblotek koniecznych do obsługi plików csv oraz pakietów numpy i pandas\n"
      ]
    },
    {
      "cell_type": "code",
      "metadata": {
        "id": "emRoiJ4SYqRr"
      },
      "source": [
        "import plotly.express as px\n",
        "import numpy as np\n",
        "import pandas as pd\n",
        "import matplotlib.pyplot as plt\n",
        "\n",
        "import csv"
      ],
      "execution_count": null,
      "outputs": []
    },
    {
      "cell_type": "markdown",
      "metadata": {
        "id": "bmvIWylOPGye"
      },
      "source": [
        "Wczytanie danych "
      ]
    },
    {
      "cell_type": "code",
      "metadata": {
        "id": "gaJpajCsPGEi"
      },
      "source": [
        "read_HospitalCapacity = pd.read_csv(\"https://apps.who.int/gho/athena/data/xmart.csv?target=GHO/WHS6_102&profile=crosstable&filter=COUNTRY:*;REGION:*&x-sideaxis=COUNTRY;YEAR&x-topaxis=GHO\")\n",
        "read_Doctors = pd.read_csv(\"https://apps.who.int/gho/athena/data/GHO/HWF_0001,HWF_0006,HWF_0010,HWF_0014?filter=COUNTRY:*;YEAR:2007;YEAR:2008;YEAR:2009;YEAR:2010;YEAR:2011;YEAR:2012;YEAR:2013;YEAR:2014;YEAR:2015;YEAR:2016;YEAR:2017;YEAR:2018&x-sideaxis=COUNTRY;YEAR&x-topaxis=GHO&profile=crosstable&format=csv\", usecols = [0,1,2])\n",
        "read_MedicalFinancing = pd.read_csv(\"https://apps.who.int/gho/athena/data/xmart.csv?target=GHO/GHED_CHE_pc_US_SHA2011&profile=crosstable&filter=REGION:*;COUNTRY:*&x-sideaxis=COUNTRY&x-topaxis=GHO;YEAR\" ,usecols = [0,1] ,skiprows =[1])\n",
        "read_Confirmed = pd.read_csv(\"https://raw.githubusercontent.com/CSSEGISandData/COVID-19/master/csse_covid_19_data/csse_covid_19_time_series/time_series_covid19_confirmed_global.csv\") "
      ],
      "execution_count": null,
      "outputs": []
    },
    {
      "cell_type": "markdown",
      "metadata": {
        "id": "m50CK_BGHq0G"
      },
      "source": [
        "Wykorzystane dane:\n",
        "1.  read_HospitalCapacity - liczba lekarzy na 10 000 mieszkańców \n",
        "2.  read_Doctors - liczba łóżek szpitalnych na 10 000 mieszkańców\n",
        "3.  read_MedicalFinancing -\tbieżące wydatki na służbę zdrowia, na mieszkańca\n",
        "4.  read_Confirmed - liczba potwierdzonych przypadków zarażeniem koronawirusem\n",
        "\n",
        " "
      ]
    },
    {
      "cell_type": "markdown",
      "metadata": {
        "id": "IV_WMg9Zesil"
      },
      "source": [
        "##Utworzenie prototypu Indeksu gotowości  służby zdrowia na wystąpienie epidemii koronawirusa "
      ]
    },
    {
      "cell_type": "markdown",
      "metadata": {
        "id": "squ6k1T7CSR1"
      },
      "source": [
        "Modyfikacja jedej z tabel w celu uspójnienia jej wyglądu co do pozostałych danych"
      ]
    },
    {
      "cell_type": "code",
      "metadata": {
        "id": "lQ4kfRzoX9iU"
      },
      "source": [
        "def fix_MedicalFinancing( reader ):\n",
        "    df = reader.rename({'Unnamed: 0': 'Country'}, axis=1)  \n",
        "    return df \n",
        "\n",
        "df_MF = fix_MedicalFinancing(read_MedicalFinancing)"
      ],
      "execution_count": null,
      "outputs": []
    },
    {
      "cell_type": "markdown",
      "metadata": {
        "id": "ojLEFg2bAhEX"
      },
      "source": [
        "Pozostawienie jedynie najbardziej aktualych danych i pozbycie się wartości z lat wcześniejszych dla tego samego państwa.\n",
        "\n"
      ]
    },
    {
      "cell_type": "code",
      "metadata": {
        "id": "8HRYGGRrWg7R"
      },
      "source": [
        "def remove_duplicates( src ):        \n",
        "    src = src.drop_duplicates(subset = 'Country') \n",
        "    src = src.drop(src.columns[1], axis = 1)\n",
        "    return src\n",
        " \n",
        "df_HC = remove_duplicates(read_HospitalCapacity)\n",
        "df_D = remove_duplicates(read_Doctors)"
      ],
      "execution_count": null,
      "outputs": []
    },
    {
      "cell_type": "code",
      "metadata": {
        "id": "wtN7iAHYeS3N",
        "colab": {
          "base_uri": "https://localhost:8080/",
          "height": 419
        },
        "outputId": "a42ac01c-6f9f-45b1-a82e-fefb78044143"
      },
      "source": [
        "df_MF  "
      ],
      "execution_count": null,
      "outputs": [
        {
          "output_type": "execute_result",
          "data": {
            "text/html": [
              "<div>\n",
              "<style scoped>\n",
              "    .dataframe tbody tr th:only-of-type {\n",
              "        vertical-align: middle;\n",
              "    }\n",
              "\n",
              "    .dataframe tbody tr th {\n",
              "        vertical-align: top;\n",
              "    }\n",
              "\n",
              "    .dataframe thead th {\n",
              "        text-align: right;\n",
              "    }\n",
              "</style>\n",
              "<table border=\"1\" class=\"dataframe\">\n",
              "  <thead>\n",
              "    <tr style=\"text-align: right;\">\n",
              "      <th></th>\n",
              "      <th>Country</th>\n",
              "      <th>Current health expenditure (CHE) per capita in US$</th>\n",
              "    </tr>\n",
              "  </thead>\n",
              "  <tbody>\n",
              "    <tr>\n",
              "      <th>0</th>\n",
              "      <td>Afghanistan</td>\n",
              "      <td>67.1</td>\n",
              "    </tr>\n",
              "    <tr>\n",
              "      <th>1</th>\n",
              "      <td>Algeria</td>\n",
              "      <td>258.5</td>\n",
              "    </tr>\n",
              "    <tr>\n",
              "      <th>2</th>\n",
              "      <td>Andorra</td>\n",
              "      <td>4040.8</td>\n",
              "    </tr>\n",
              "    <tr>\n",
              "      <th>3</th>\n",
              "      <td>Angola</td>\n",
              "      <td>114.5</td>\n",
              "    </tr>\n",
              "    <tr>\n",
              "      <th>4</th>\n",
              "      <td>Antigua and Barbuda</td>\n",
              "      <td>673.9</td>\n",
              "    </tr>\n",
              "    <tr>\n",
              "      <th>...</th>\n",
              "      <td>...</td>\n",
              "      <td>...</td>\n",
              "    </tr>\n",
              "    <tr>\n",
              "      <th>185</th>\n",
              "      <td>Venezuela (Bolivarian Republic of)</td>\n",
              "      <td>94.2</td>\n",
              "    </tr>\n",
              "    <tr>\n",
              "      <th>186</th>\n",
              "      <td>Viet Nam</td>\n",
              "      <td>129.6</td>\n",
              "    </tr>\n",
              "    <tr>\n",
              "      <th>187</th>\n",
              "      <td>Yemen</td>\n",
              "      <td>NaN</td>\n",
              "    </tr>\n",
              "    <tr>\n",
              "      <th>188</th>\n",
              "      <td>Zambia</td>\n",
              "      <td>67.6</td>\n",
              "    </tr>\n",
              "    <tr>\n",
              "      <th>189</th>\n",
              "      <td>Zimbabwe</td>\n",
              "      <td>110.1</td>\n",
              "    </tr>\n",
              "  </tbody>\n",
              "</table>\n",
              "<p>190 rows × 2 columns</p>\n",
              "</div>"
            ],
            "text/plain": [
              "                                Country  Current health expenditure (CHE) per capita in US$\n",
              "0                           Afghanistan                                               67.1 \n",
              "1                               Algeria                                              258.5 \n",
              "2                               Andorra                                             4040.8 \n",
              "3                                Angola                                              114.5 \n",
              "4                   Antigua and Barbuda                                              673.9 \n",
              "..                                  ...                                                ... \n",
              "185  Venezuela (Bolivarian Republic of)                                               94.2 \n",
              "186                            Viet Nam                                              129.6 \n",
              "187                               Yemen                                                NaN \n",
              "188                              Zambia                                               67.6 \n",
              "189                            Zimbabwe                                              110.1 \n",
              "\n",
              "[190 rows x 2 columns]"
            ]
          },
          "metadata": {
            "tags": []
          },
          "execution_count": 47
        }
      ]
    },
    {
      "cell_type": "code",
      "metadata": {
        "id": "QeCJwJgNeUwJ",
        "colab": {
          "base_uri": "https://localhost:8080/",
          "height": 419
        },
        "outputId": "4219768a-64f3-4c05-88a8-5061198b7fea"
      },
      "source": [
        "df_D"
      ],
      "execution_count": null,
      "outputs": [
        {
          "output_type": "execute_result",
          "data": {
            "text/html": [
              "<div>\n",
              "<style scoped>\n",
              "    .dataframe tbody tr th:only-of-type {\n",
              "        vertical-align: middle;\n",
              "    }\n",
              "\n",
              "    .dataframe tbody tr th {\n",
              "        vertical-align: top;\n",
              "    }\n",
              "\n",
              "    .dataframe thead th {\n",
              "        text-align: right;\n",
              "    }\n",
              "</style>\n",
              "<table border=\"1\" class=\"dataframe\">\n",
              "  <thead>\n",
              "    <tr style=\"text-align: right;\">\n",
              "      <th></th>\n",
              "      <th>Country</th>\n",
              "      <th>Medical doctors (per 10 000 population)</th>\n",
              "    </tr>\n",
              "  </thead>\n",
              "  <tbody>\n",
              "    <tr>\n",
              "      <th>0</th>\n",
              "      <td>Afghanistan</td>\n",
              "      <td>2.840</td>\n",
              "    </tr>\n",
              "    <tr>\n",
              "      <th>10</th>\n",
              "      <td>Albania</td>\n",
              "      <td>11.998</td>\n",
              "    </tr>\n",
              "    <tr>\n",
              "      <th>15</th>\n",
              "      <td>Algeria</td>\n",
              "      <td>18.300</td>\n",
              "    </tr>\n",
              "    <tr>\n",
              "      <th>17</th>\n",
              "      <td>Andorra</td>\n",
              "      <td>33.333</td>\n",
              "    </tr>\n",
              "    <tr>\n",
              "      <th>18</th>\n",
              "      <td>Angola</td>\n",
              "      <td>2.149</td>\n",
              "    </tr>\n",
              "    <tr>\n",
              "      <th>...</th>\n",
              "      <td>...</td>\n",
              "      <td>...</td>\n",
              "    </tr>\n",
              "    <tr>\n",
              "      <th>1071</th>\n",
              "      <td>Vanuatu</td>\n",
              "      <td>1.706</td>\n",
              "    </tr>\n",
              "    <tr>\n",
              "      <th>1075</th>\n",
              "      <td>Viet Nam</td>\n",
              "      <td>8.199</td>\n",
              "    </tr>\n",
              "    <tr>\n",
              "      <th>1083</th>\n",
              "      <td>Yemen</td>\n",
              "      <td>3.104</td>\n",
              "    </tr>\n",
              "    <tr>\n",
              "      <th>1087</th>\n",
              "      <td>Zambia</td>\n",
              "      <td>0.913</td>\n",
              "    </tr>\n",
              "    <tr>\n",
              "      <th>1093</th>\n",
              "      <td>Zimbabwe</td>\n",
              "      <td>0.763</td>\n",
              "    </tr>\n",
              "  </tbody>\n",
              "</table>\n",
              "<p>191 rows × 2 columns</p>\n",
              "</div>"
            ],
            "text/plain": [
              "          Country  Medical doctors (per 10 000 population)\n",
              "0     Afghanistan                                    2.840\n",
              "10        Albania                                   11.998\n",
              "15        Algeria                                   18.300\n",
              "17        Andorra                                   33.333\n",
              "18         Angola                                    2.149\n",
              "...           ...                                      ...\n",
              "1071      Vanuatu                                    1.706\n",
              "1075     Viet Nam                                    8.199\n",
              "1083        Yemen                                    3.104\n",
              "1087       Zambia                                    0.913\n",
              "1093     Zimbabwe                                    0.763\n",
              "\n",
              "[191 rows x 2 columns]"
            ]
          },
          "metadata": {
            "tags": []
          },
          "execution_count": 48
        }
      ]
    },
    {
      "cell_type": "code",
      "metadata": {
        "id": "EivlRvI2eU8y",
        "colab": {
          "base_uri": "https://localhost:8080/",
          "height": 419
        },
        "outputId": "e61352fc-cf8e-4f19-fef5-540791ca8185"
      },
      "source": [
        "df_HC"
      ],
      "execution_count": null,
      "outputs": [
        {
          "output_type": "execute_result",
          "data": {
            "text/html": [
              "<div>\n",
              "<style scoped>\n",
              "    .dataframe tbody tr th:only-of-type {\n",
              "        vertical-align: middle;\n",
              "    }\n",
              "\n",
              "    .dataframe tbody tr th {\n",
              "        vertical-align: top;\n",
              "    }\n",
              "\n",
              "    .dataframe thead th {\n",
              "        text-align: right;\n",
              "    }\n",
              "</style>\n",
              "<table border=\"1\" class=\"dataframe\">\n",
              "  <thead>\n",
              "    <tr style=\"text-align: right;\">\n",
              "      <th></th>\n",
              "      <th>Country</th>\n",
              "      <th>Hospital beds (per 10 000 population)</th>\n",
              "    </tr>\n",
              "  </thead>\n",
              "  <tbody>\n",
              "    <tr>\n",
              "      <th>0</th>\n",
              "      <td>Afghanistan</td>\n",
              "      <td>5</td>\n",
              "    </tr>\n",
              "    <tr>\n",
              "      <th>16</th>\n",
              "      <td>Albania</td>\n",
              "      <td>29</td>\n",
              "    </tr>\n",
              "    <tr>\n",
              "      <th>29</th>\n",
              "      <td>Algeria</td>\n",
              "      <td>19</td>\n",
              "    </tr>\n",
              "    <tr>\n",
              "      <th>31</th>\n",
              "      <td>Angola</td>\n",
              "      <td>8</td>\n",
              "    </tr>\n",
              "    <tr>\n",
              "      <th>32</th>\n",
              "      <td>Antigua and Barbuda</td>\n",
              "      <td>38</td>\n",
              "    </tr>\n",
              "    <tr>\n",
              "      <th>...</th>\n",
              "      <td>...</td>\n",
              "      <td>...</td>\n",
              "    </tr>\n",
              "    <tr>\n",
              "      <th>1250</th>\n",
              "      <td>Venezuela (Bolivarian Republic of)</td>\n",
              "      <td>8</td>\n",
              "    </tr>\n",
              "    <tr>\n",
              "      <th>1254</th>\n",
              "      <td>Viet Nam</td>\n",
              "      <td>26</td>\n",
              "    </tr>\n",
              "    <tr>\n",
              "      <th>1256</th>\n",
              "      <td>Yemen</td>\n",
              "      <td>7</td>\n",
              "    </tr>\n",
              "    <tr>\n",
              "      <th>1271</th>\n",
              "      <td>Zambia</td>\n",
              "      <td>20</td>\n",
              "    </tr>\n",
              "    <tr>\n",
              "      <th>1273</th>\n",
              "      <td>Zimbabwe</td>\n",
              "      <td>17</td>\n",
              "    </tr>\n",
              "  </tbody>\n",
              "</table>\n",
              "<p>181 rows × 2 columns</p>\n",
              "</div>"
            ],
            "text/plain": [
              "                                 Country  Hospital beds (per 10 000 population)\n",
              "0                            Afghanistan                                      5\n",
              "16                               Albania                                     29\n",
              "29                               Algeria                                     19\n",
              "31                                Angola                                      8\n",
              "32                   Antigua and Barbuda                                     38\n",
              "...                                  ...                                    ...\n",
              "1250  Venezuela (Bolivarian Republic of)                                      8\n",
              "1254                            Viet Nam                                     26\n",
              "1256                               Yemen                                      7\n",
              "1271                              Zambia                                     20\n",
              "1273                            Zimbabwe                                     17\n",
              "\n",
              "[181 rows x 2 columns]"
            ]
          },
          "metadata": {
            "tags": []
          },
          "execution_count": 49
        }
      ]
    },
    {
      "cell_type": "markdown",
      "metadata": {
        "id": "VL6QXwHOBQJg"
      },
      "source": [
        "Scalenie danych w jedną tabelę i pozbycie się z indeksu państw, dla których brakuje informacji o wszystkich 3 wyznacznikach"
      ]
    },
    {
      "cell_type": "code",
      "metadata": {
        "id": "W3Vgllw1eHpm"
      },
      "source": [
        "df_I = pd.merge(df_D, df_HC, on='Country')\n",
        "df_I = pd.merge(df_I, df_MF, on='Country')\n",
        "df_I = df_I.dropna()                        "
      ],
      "execution_count": null,
      "outputs": []
    },
    {
      "cell_type": "markdown",
      "metadata": {
        "id": "aOuh9fet_3qg"
      },
      "source": [
        "Przeskalowanie danych tak aby każda z nich składała się dokładnie na 1/3 wartości całkowitej indeksu"
      ]
    },
    {
      "cell_type": "code",
      "metadata": {
        "id": "jKYRbNvfKFXW"
      },
      "source": [
        " def rescale_values( src ):\n",
        "     for col in range(1,4):\n",
        "        v_max = src.iloc[:,col].max()\n",
        "        for i in range(0,len(src)):\n",
        "             scaled = ( src.iloc[i,col] * float(100/3) ) / v_max\n",
        "             src.iloc[i,col] = scaled\n",
        "     return src \n",
        "  \n",
        "df_I = rescale_values(df_I)"
      ],
      "execution_count": null,
      "outputs": []
    },
    {
      "cell_type": "markdown",
      "metadata": {
        "id": "xviZa_erJnP6"
      },
      "source": [
        "Utworzenie INDEKSU , którego wyniki są przechowywane w kolumnie **Points** \n",
        "\n",
        "Państwa są oceniane w skali [0, 100]\n",
        "\n",
        "\n",
        "\n",
        "\n"
      ]
    },
    {
      "cell_type": "code",
      "metadata": {
        "id": "-yBV41LCJjFc",
        "colab": {
          "base_uri": "https://localhost:8080/",
          "height": 484
        },
        "outputId": "839eaa2f-efbd-4b20-ff56-eeef6f630c55"
      },
      "source": [
        "df_I['Points'] = df_I.sum(axis=1)       \n",
        "df_I.set_index('Country',inplace=True)              \n",
        "df_I"
      ],
      "execution_count": null,
      "outputs": [
        {
          "output_type": "execute_result",
          "data": {
            "text/html": [
              "<div>\n",
              "<style scoped>\n",
              "    .dataframe tbody tr th:only-of-type {\n",
              "        vertical-align: middle;\n",
              "    }\n",
              "\n",
              "    .dataframe tbody tr th {\n",
              "        vertical-align: top;\n",
              "    }\n",
              "\n",
              "    .dataframe thead th {\n",
              "        text-align: right;\n",
              "    }\n",
              "</style>\n",
              "<table border=\"1\" class=\"dataframe\">\n",
              "  <thead>\n",
              "    <tr style=\"text-align: right;\">\n",
              "      <th></th>\n",
              "      <th>Medical doctors (per 10 000 population)</th>\n",
              "      <th>Hospital beds (per 10 000 population)</th>\n",
              "      <th>Current health expenditure (CHE) per capita in US$</th>\n",
              "      <th>Points</th>\n",
              "    </tr>\n",
              "    <tr>\n",
              "      <th>Country</th>\n",
              "      <th></th>\n",
              "      <th></th>\n",
              "      <th></th>\n",
              "      <th></th>\n",
              "    </tr>\n",
              "  </thead>\n",
              "  <tbody>\n",
              "    <tr>\n",
              "      <th>Afghanistan</th>\n",
              "      <td>1.155881</td>\n",
              "      <td>1.243781</td>\n",
              "      <td>0.218294</td>\n",
              "      <td>2.617957</td>\n",
              "    </tr>\n",
              "    <tr>\n",
              "      <th>Algeria</th>\n",
              "      <td>7.448107</td>\n",
              "      <td>4.726368</td>\n",
              "      <td>0.840970</td>\n",
              "      <td>13.015446</td>\n",
              "    </tr>\n",
              "    <tr>\n",
              "      <th>Angola</th>\n",
              "      <td>0.874644</td>\n",
              "      <td>1.990050</td>\n",
              "      <td>0.372499</td>\n",
              "      <td>3.237193</td>\n",
              "    </tr>\n",
              "    <tr>\n",
              "      <th>Antigua and Barbuda</th>\n",
              "      <td>11.252340</td>\n",
              "      <td>9.452736</td>\n",
              "      <td>2.192379</td>\n",
              "      <td>22.897455</td>\n",
              "    </tr>\n",
              "    <tr>\n",
              "      <th>Argentina</th>\n",
              "      <td>16.117216</td>\n",
              "      <td>12.437811</td>\n",
              "      <td>4.309282</td>\n",
              "      <td>32.864309</td>\n",
              "    </tr>\n",
              "    <tr>\n",
              "      <th>...</th>\n",
              "      <td>...</td>\n",
              "      <td>...</td>\n",
              "      <td>...</td>\n",
              "      <td>...</td>\n",
              "    </tr>\n",
              "    <tr>\n",
              "      <th>Uruguay</th>\n",
              "      <td>20.553114</td>\n",
              "      <td>6.965174</td>\n",
              "      <td>5.177580</td>\n",
              "      <td>32.695867</td>\n",
              "    </tr>\n",
              "    <tr>\n",
              "      <th>Uzbekistan</th>\n",
              "      <td>9.639805</td>\n",
              "      <td>9.950249</td>\n",
              "      <td>0.321423</td>\n",
              "      <td>19.911477</td>\n",
              "    </tr>\n",
              "    <tr>\n",
              "      <th>Viet Nam</th>\n",
              "      <td>3.336996</td>\n",
              "      <td>6.467662</td>\n",
              "      <td>0.421624</td>\n",
              "      <td>10.226282</td>\n",
              "    </tr>\n",
              "    <tr>\n",
              "      <th>Zambia</th>\n",
              "      <td>0.371591</td>\n",
              "      <td>4.975124</td>\n",
              "      <td>0.219921</td>\n",
              "      <td>5.566637</td>\n",
              "    </tr>\n",
              "    <tr>\n",
              "      <th>Zimbabwe</th>\n",
              "      <td>0.310541</td>\n",
              "      <td>4.228856</td>\n",
              "      <td>0.358185</td>\n",
              "      <td>4.897582</td>\n",
              "    </tr>\n",
              "  </tbody>\n",
              "</table>\n",
              "<p>156 rows × 4 columns</p>\n",
              "</div>"
            ],
            "text/plain": [
              "                     Medical doctors (per 10 000 population)  ...     Points\n",
              "Country                                                       ...           \n",
              "Afghanistan                                         1.155881  ...   2.617957\n",
              "Algeria                                             7.448107  ...  13.015446\n",
              "Angola                                              0.874644  ...   3.237193\n",
              "Antigua and Barbuda                                11.252340  ...  22.897455\n",
              "Argentina                                          16.117216  ...  32.864309\n",
              "...                                                      ...  ...        ...\n",
              "Uruguay                                            20.553114  ...  32.695867\n",
              "Uzbekistan                                          9.639805  ...  19.911477\n",
              "Viet Nam                                            3.336996  ...  10.226282\n",
              "Zambia                                              0.371591  ...   5.566637\n",
              "Zimbabwe                                            0.310541  ...   4.897582\n",
              "\n",
              "[156 rows x 4 columns]"
            ]
          },
          "metadata": {
            "tags": []
          },
          "execution_count": 52
        }
      ]
    },
    {
      "cell_type": "markdown",
      "metadata": {
        "id": "PVFSuzys9X6O"
      },
      "source": [
        "Sprawdzenie czy wartości zostały poprawnie przeskalowane"
      ]
    },
    {
      "cell_type": "code",
      "metadata": {
        "id": "RXqaxXgf9I1V",
        "colab": {
          "base_uri": "https://localhost:8080/",
          "height": 34
        },
        "outputId": "035d6c11-f268-4a52-8182-45af5bdfe2dd"
      },
      "source": [
        "df_I['Medical doctors (per 10 000 population)'].max() "
      ],
      "execution_count": null,
      "outputs": [
        {
          "output_type": "execute_result",
          "data": {
            "text/plain": [
              "33.333333333333336"
            ]
          },
          "metadata": {
            "tags": []
          },
          "execution_count": 53
        }
      ]
    },
    {
      "cell_type": "code",
      "metadata": {
        "id": "x_7n4yMc9JUH",
        "colab": {
          "base_uri": "https://localhost:8080/",
          "height": 34
        },
        "outputId": "471d1ca7-7f5c-49ab-e7c2-e89c67b8bd23"
      },
      "source": [
        "df_I['Hospital beds (per 10 000 population)'].max() "
      ],
      "execution_count": null,
      "outputs": [
        {
          "output_type": "execute_result",
          "data": {
            "text/plain": [
              "33.333333333333336"
            ]
          },
          "metadata": {
            "tags": []
          },
          "execution_count": 54
        }
      ]
    },
    {
      "cell_type": "code",
      "metadata": {
        "id": "6ZwFXQjGmmJL",
        "colab": {
          "base_uri": "https://localhost:8080/",
          "height": 34
        },
        "outputId": "ce14dc96-2c70-4b41-b1c1-50898ba81d28"
      },
      "source": [
        "df_I['Current health expenditure (CHE) per capita in US$'].max() "
      ],
      "execution_count": null,
      "outputs": [
        {
          "output_type": "execute_result",
          "data": {
            "text/plain": [
              "33.333333333333336"
            ]
          },
          "metadata": {
            "tags": []
          },
          "execution_count": 55
        }
      ]
    },
    {
      "cell_type": "code",
      "metadata": {
        "id": "7N5p_jogKaem",
        "colab": {
          "base_uri": "https://localhost:8080/",
          "height": 34
        },
        "outputId": "7bfc49e8-8852-47bb-fa51-678e1b7d8fdf"
      },
      "source": [
        "df_I['Medical doctors (per 10 000 population)'].max() + df_I['Hospital beds (per 10 000 population)'].max() + df_I['Current health expenditure (CHE) per capita in US$'].max() "
      ],
      "execution_count": null,
      "outputs": [
        {
          "output_type": "execute_result",
          "data": {
            "text/plain": [
              "100.0"
            ]
          },
          "metadata": {
            "tags": []
          },
          "execution_count": 56
        }
      ]
    },
    {
      "cell_type": "markdown",
      "metadata": {
        "id": "4-4U5MwL9mpC"
      },
      "source": [
        "Ustalamy realne maksymalne i minimalne otrzymane przez państwa wartości indeksu w celu dokładniejszego zobrazowania danych"
      ]
    },
    {
      "cell_type": "code",
      "metadata": {
        "id": "wj8q3pTT9wyo",
        "colab": {
          "base_uri": "https://localhost:8080/",
          "height": 34
        },
        "outputId": "517c3f19-d74a-45d5-f7f0-7e1225ce8a33"
      },
      "source": [
        "real_max = df_I['Points'].max() \n",
        "real_max"
      ],
      "execution_count": null,
      "outputs": [
        {
          "output_type": "execute_result",
          "data": {
            "text/plain": [
              "61.32383611621318"
            ]
          },
          "metadata": {
            "tags": []
          },
          "execution_count": 57
        }
      ]
    },
    {
      "cell_type": "code",
      "metadata": {
        "id": "cnQr1sAitQeA",
        "colab": {
          "base_uri": "https://localhost:8080/",
          "height": 34
        },
        "outputId": "98cc8070-bfe8-47a5-c10d-9bfc72ba700f"
      },
      "source": [
        "real_min = df_I['Points'].min() \n",
        "real_min"
      ],
      "execution_count": null,
      "outputs": [
        {
          "output_type": "execute_result",
          "data": {
            "text/plain": [
              "0.9178604748476474"
            ]
          },
          "metadata": {
            "tags": []
          },
          "execution_count": 58
        }
      ]
    },
    {
      "cell_type": "code",
      "metadata": {
        "id": "06XdqJakSR17",
        "colab": {
          "base_uri": "https://localhost:8080/",
          "height": 542
        },
        "outputId": "45c87a83-996f-45df-a2ae-46eeece4738f"
      },
      "source": [
        "fig1 = px.choropleth(df_I, \n",
        "                    locations = df_I.index, \n",
        "                    locationmode = 'country names',\n",
        "                    color = df_I['Points'], \n",
        "                    #scope =\"europe\",\n",
        "          \n",
        "                    range_color= [real_min, real_max], \n",
        "                    color_continuous_scale=\"Blues\",                     \n",
        "                    projection=\"natural earth\", \n",
        "                    title='Gotowość służby zdrowia kraju na epidemie COVID-19',\n",
        "                    labels={'Points'},)\n",
        "        \n",
        "fig1.show()"
      ],
      "execution_count": null,
      "outputs": [
        {
          "output_type": "display_data",
          "data": {
            "text/html": [
              "<html>\n",
              "<head><meta charset=\"utf-8\" /></head>\n",
              "<body>\n",
              "    <div>\n",
              "            <script src=\"https://cdnjs.cloudflare.com/ajax/libs/mathjax/2.7.5/MathJax.js?config=TeX-AMS-MML_SVG\"></script><script type=\"text/javascript\">if (window.MathJax) {MathJax.Hub.Config({SVG: {font: \"STIX-Web\"}});}</script>\n",
              "                <script type=\"text/javascript\">window.PlotlyConfig = {MathJaxConfig: 'local'};</script>\n",
              "        <script src=\"https://cdn.plot.ly/plotly-latest.min.js\"></script>    \n",
              "            <div id=\"044fbb99-cc33-4880-9186-e8bda6e31177\" class=\"plotly-graph-div\" style=\"height:525px; width:100%;\"></div>\n",
              "            <script type=\"text/javascript\">\n",
              "                \n",
              "                    window.PLOTLYENV=window.PLOTLYENV || {};\n",
              "                    \n",
              "                if (document.getElementById(\"044fbb99-cc33-4880-9186-e8bda6e31177\")) {\n",
              "                    Plotly.newPlot(\n",
              "                        '044fbb99-cc33-4880-9186-e8bda6e31177',\n",
              "                        [{\"coloraxis\": \"coloraxis\", \"geo\": \"geo\", \"hoverlabel\": {\"namelength\": 0}, \"hovertemplate\": \"locations=%{location}<br>Points=%{z}\", \"locationmode\": \"country names\", \"locations\": [\"Afghanistan\", \"Algeria\", \"Angola\", \"Antigua and Barbuda\", \"Argentina\", \"Armenia\", \"Australia\", \"Azerbaijan\", \"Bahamas\", \"Bahrain\", \"Bangladesh\", \"Barbados\", \"Belarus\", \"Belgium\", \"Belize\", \"Benin\", \"Bhutan\", \"Bolivia (Plurinational State of)\", \"Botswana\", \"Brazil\", \"Brunei Darussalam\", \"Bulgaria\", \"Burkina Faso\", \"Burundi\", \"Cambodia\", \"Canada\", \"Central African Republic\", \"Chad\", \"Chile\", \"China\", \"Colombia\", \"Comoros\", \"Cook Islands\", \"C\\u00f4te d'Ivoire\", \"Croatia\", \"Cuba\", \"Cyprus\", \"Czechia\", \"Democratic Republic of the Congo\", \"Denmark\", \"Djibouti\", \"Dominican Republic\", \"Ecuador\", \"Egypt\", \"Equatorial Guinea\", \"Estonia\", \"Eswatini\", \"Ethiopia\", \"Fiji\", \"Finland\", \"France\", \"Gabon\", \"Gambia\", \"Georgia\", \"Germany\", \"Ghana\", \"Greece\", \"Grenada\", \"Guatemala\", \"Guinea\", \"Guinea-Bissau\", \"Guyana\", \"Haiti\", \"Honduras\", \"Hungary\", \"Iceland\", \"India\", \"Indonesia\", \"Iran (Islamic Republic of)\", \"Iraq\", \"Ireland\", \"Israel\", \"Italy\", \"Jamaica\", \"Japan\", \"Jordan\", \"Kazakhstan\", \"Kenya\", \"Kuwait\", \"Kyrgyzstan\", \"Lao People's Democratic Republic\", \"Latvia\", \"Lebanon\", \"Lesotho\", \"Liberia\", \"Luxembourg\", \"Malawi\", \"Malaysia\", \"Maldives\", \"Mali\", \"Malta\", \"Mauritania\", \"Mauritius\", \"Mexico\", \"Mongolia\", \"Morocco\", \"Mozambique\", \"Myanmar\", \"Namibia\", \"Nauru\", \"Nepal\", \"Netherlands\", \"Nicaragua\", \"Niger\", \"Nigeria\", \"Niue\", \"Norway\", \"Oman\", \"Pakistan\", \"Panama\", \"Paraguay\", \"Peru\", \"Poland\", \"Portugal\", \"Qatar\", \"Republic of Korea\", \"Republic of Moldova\", \"Romania\", \"Russian Federation\", \"Rwanda\", \"Saint Vincent and the Grenadines\", \"Sao Tome and Principe\", \"Saudi Arabia\", \"Senegal\", \"Serbia\", \"Seychelles\", \"Singapore\", \"Slovakia\", \"Slovenia\", \"Solomon Islands\", \"South Africa\", \"Spain\", \"Sri Lanka\", \"Sudan\", \"Suriname\", \"Sweden\", \"Switzerland\", \"Tajikistan\", \"Thailand\", \"Republic of North Macedonia\", \"Timor-Leste\", \"Togo\", \"Tunisia\", \"Turkmenistan\", \"Tuvalu\", \"Uganda\", \"Ukraine\", \"United Arab Emirates\", \"United Kingdom of Great Britain and Northern Ireland\", \"United Republic of Tanzania\", \"United States of America\", \"Uruguay\", \"Uzbekistan\", \"Viet Nam\", \"Zambia\", \"Zimbabwe\"], \"name\": \"\", \"type\": \"choropleth\", \"z\": [2.6179566908948178, 13.015445992791433, 3.237193080964872, 22.897455459626258, 32.86430896812539, 23.57273598763954, 41.399255771373774, 26.61647027876858, 20.861917658136882, 12.40981348425404, 4.252221609027628, 28.40769426548246, 45.07164976870421, 43.612927874068085, 8.730011762590157, 1.9837864611125993, 6.055778803281421, 10.010197423253022, 7.494328097390027, 17.244376067120125, 16.104977827764962, 35.30538764764921, 1.3836703233629941, 2.2700018079694395, 2.941717931555055, 32.80891772127942, 2.822294587528451, 1.2849721983426587, 14.364260835251546, 19.14879503131065, 13.70509850816446, 6.355422803995228, 23.36828282754195, 2.1684607657011865, 29.059669636005125, 49.48158651409703, 22.03238464889953, 38.52865349644685, 2.4194635623345233, 43.22731129560623, 4.607913866904875, 11.738622567322297, 13.76004566840046, 7.540412721636827, 7.831767254442384, 30.771660138444908, 6.278862768636599, 1.2355768035723147, 9.742530576990927, 40.1261282414927, 43.583558546891666, 5.368803102028573, 3.2504590454550883, 28.16844797838571, 54.15152860540279, 3.1883998350962774, 34.31988591523337, 16.711209007235002, 3.782913722254312, 1.176620188228391, 3.472034369396555, 7.981911570100276, 2.898713556595471, 3.6582184735163796, 33.756691995889234, 43.918901494621096, 5.131580332429815, 4.896441254358434, 9.918077974820934, 7.511072163608032, 35.71681489480413, 31.03732182438562, 34.35625822280971, 10.600258744917355, 56.71225323859985, 14.12943781138975, 30.812748292999316, 4.540904382604909, 20.44583356645755, 19.08571518965543, 5.967152406099326, 30.456738432210425, 18.797312281041876, 3.849255199515444, 2.3259960048660284, 43.070933951758946, 3.4028105419758337, 12.134679459376576, 18.196492552627042, 0.9178604748476474, 35.67503367740284, 1.8823151972335639, 18.64882791182292, 14.489291274291814, 29.645495699939712, 6.220208894427276, 2.109082835869016, 5.943979166933894, 9.686054252459936, 21.0808586110031, 3.550451954833994, 41.941937557925556, 6.956555297184066, 1.0450896814721886, 3.0417883309843514, 24.662123057981578, 54.379518201977916, 13.908408176845953, 5.607108140518669, 15.72950503465179, 10.033277735789081, 10.23104238980917, 28.886415549449044, 28.24085684652858, 8.353624091373598, 45.664543340295175, 28.07471301226814, 26.670043354851714, 38.64069038491443, 4.687982951531063, 10.191571846670177, 8.905748111557326, 20.000853438468653, 1.206842807611764, 28.61722057635989, 15.380247866117188, 23.876138705977418, 28.316275688386405, 29.880924313677106, 4.625411837692389, 12.293317392193602, 32.17826226074126, 13.124428181583529, 4.289235213779201, 13.807137407691213, 47.65331577666056, 61.32383611621318, 19.04889078095673, 9.322513668545001, 23.70921131035085, 17.876470937726427, 2.0631270038482423, 11.7145217623999, 28.94802316873387, 19.688354804310244, 1.739889680699486, 34.708214664312266, 17.144980237059684, 30.93818584859035, 2.013972559597127, 51.1081102424386, 32.69586744452259, 19.911476506605457, 10.226281865901134, 5.566636825362133, 4.897582097471477]}],\n",
              "                        {\"coloraxis\": {\"cmax\": 61.32383611621318, \"cmin\": 0.9178604748476474, \"colorbar\": {\"title\": {\"text\": \"Points\"}}, \"colorscale\": [[0.0, \"rgb(247,251,255)\"], [0.125, \"rgb(222,235,247)\"], [0.25, \"rgb(198,219,239)\"], [0.375, \"rgb(158,202,225)\"], [0.5, \"rgb(107,174,214)\"], [0.625, \"rgb(66,146,198)\"], [0.75, \"rgb(33,113,181)\"], [0.875, \"rgb(8,81,156)\"], [1.0, \"rgb(8,48,107)\"]]}, \"geo\": {\"center\": {}, \"domain\": {\"x\": [0.0, 1.0], \"y\": [0.0, 1.0]}, \"projection\": {\"type\": \"natural earth\"}}, \"legend\": {\"tracegroupgap\": 0}, \"template\": {\"data\": {\"bar\": [{\"error_x\": {\"color\": \"#2a3f5f\"}, \"error_y\": {\"color\": \"#2a3f5f\"}, \"marker\": {\"line\": {\"color\": \"#E5ECF6\", \"width\": 0.5}}, \"type\": \"bar\"}], \"barpolar\": [{\"marker\": {\"line\": {\"color\": \"#E5ECF6\", \"width\": 0.5}}, \"type\": \"barpolar\"}], \"carpet\": [{\"aaxis\": {\"endlinecolor\": \"#2a3f5f\", \"gridcolor\": \"white\", \"linecolor\": \"white\", \"minorgridcolor\": \"white\", \"startlinecolor\": \"#2a3f5f\"}, \"baxis\": {\"endlinecolor\": \"#2a3f5f\", \"gridcolor\": \"white\", \"linecolor\": \"white\", \"minorgridcolor\": \"white\", \"startlinecolor\": \"#2a3f5f\"}, \"type\": \"carpet\"}], \"choropleth\": [{\"colorbar\": {\"outlinewidth\": 0, \"ticks\": \"\"}, \"type\": \"choropleth\"}], \"contour\": [{\"colorbar\": {\"outlinewidth\": 0, \"ticks\": \"\"}, \"colorscale\": [[0.0, \"#0d0887\"], [0.1111111111111111, \"#46039f\"], [0.2222222222222222, \"#7201a8\"], [0.3333333333333333, \"#9c179e\"], [0.4444444444444444, \"#bd3786\"], [0.5555555555555556, \"#d8576b\"], [0.6666666666666666, \"#ed7953\"], [0.7777777777777778, \"#fb9f3a\"], [0.8888888888888888, \"#fdca26\"], [1.0, \"#f0f921\"]], \"type\": \"contour\"}], \"contourcarpet\": [{\"colorbar\": {\"outlinewidth\": 0, \"ticks\": \"\"}, \"type\": \"contourcarpet\"}], \"heatmap\": [{\"colorbar\": {\"outlinewidth\": 0, \"ticks\": \"\"}, \"colorscale\": [[0.0, \"#0d0887\"], [0.1111111111111111, \"#46039f\"], [0.2222222222222222, \"#7201a8\"], [0.3333333333333333, \"#9c179e\"], [0.4444444444444444, \"#bd3786\"], [0.5555555555555556, \"#d8576b\"], [0.6666666666666666, \"#ed7953\"], [0.7777777777777778, \"#fb9f3a\"], [0.8888888888888888, \"#fdca26\"], [1.0, \"#f0f921\"]], \"type\": \"heatmap\"}], \"heatmapgl\": [{\"colorbar\": {\"outlinewidth\": 0, \"ticks\": \"\"}, \"colorscale\": [[0.0, \"#0d0887\"], [0.1111111111111111, \"#46039f\"], [0.2222222222222222, \"#7201a8\"], [0.3333333333333333, \"#9c179e\"], [0.4444444444444444, \"#bd3786\"], [0.5555555555555556, \"#d8576b\"], [0.6666666666666666, \"#ed7953\"], [0.7777777777777778, \"#fb9f3a\"], [0.8888888888888888, \"#fdca26\"], [1.0, \"#f0f921\"]], \"type\": \"heatmapgl\"}], \"histogram\": [{\"marker\": {\"colorbar\": {\"outlinewidth\": 0, \"ticks\": \"\"}}, \"type\": \"histogram\"}], \"histogram2d\": [{\"colorbar\": {\"outlinewidth\": 0, \"ticks\": \"\"}, \"colorscale\": [[0.0, \"#0d0887\"], [0.1111111111111111, \"#46039f\"], [0.2222222222222222, \"#7201a8\"], [0.3333333333333333, \"#9c179e\"], [0.4444444444444444, \"#bd3786\"], [0.5555555555555556, \"#d8576b\"], [0.6666666666666666, \"#ed7953\"], [0.7777777777777778, \"#fb9f3a\"], [0.8888888888888888, \"#fdca26\"], [1.0, \"#f0f921\"]], \"type\": \"histogram2d\"}], \"histogram2dcontour\": [{\"colorbar\": {\"outlinewidth\": 0, \"ticks\": \"\"}, \"colorscale\": [[0.0, \"#0d0887\"], [0.1111111111111111, \"#46039f\"], [0.2222222222222222, \"#7201a8\"], [0.3333333333333333, \"#9c179e\"], [0.4444444444444444, \"#bd3786\"], [0.5555555555555556, \"#d8576b\"], [0.6666666666666666, \"#ed7953\"], [0.7777777777777778, \"#fb9f3a\"], [0.8888888888888888, \"#fdca26\"], [1.0, \"#f0f921\"]], \"type\": \"histogram2dcontour\"}], \"mesh3d\": [{\"colorbar\": {\"outlinewidth\": 0, \"ticks\": \"\"}, \"type\": \"mesh3d\"}], \"parcoords\": [{\"line\": {\"colorbar\": {\"outlinewidth\": 0, \"ticks\": \"\"}}, \"type\": \"parcoords\"}], \"pie\": [{\"automargin\": true, \"type\": \"pie\"}], \"scatter\": [{\"marker\": {\"colorbar\": {\"outlinewidth\": 0, \"ticks\": \"\"}}, \"type\": \"scatter\"}], \"scatter3d\": [{\"line\": {\"colorbar\": {\"outlinewidth\": 0, \"ticks\": \"\"}}, \"marker\": {\"colorbar\": {\"outlinewidth\": 0, \"ticks\": \"\"}}, \"type\": \"scatter3d\"}], \"scattercarpet\": [{\"marker\": {\"colorbar\": {\"outlinewidth\": 0, \"ticks\": \"\"}}, \"type\": \"scattercarpet\"}], \"scattergeo\": [{\"marker\": {\"colorbar\": {\"outlinewidth\": 0, \"ticks\": \"\"}}, \"type\": \"scattergeo\"}], \"scattergl\": [{\"marker\": {\"colorbar\": {\"outlinewidth\": 0, \"ticks\": \"\"}}, \"type\": \"scattergl\"}], \"scattermapbox\": [{\"marker\": {\"colorbar\": {\"outlinewidth\": 0, \"ticks\": \"\"}}, \"type\": \"scattermapbox\"}], \"scatterpolar\": [{\"marker\": {\"colorbar\": {\"outlinewidth\": 0, \"ticks\": \"\"}}, \"type\": \"scatterpolar\"}], \"scatterpolargl\": [{\"marker\": {\"colorbar\": {\"outlinewidth\": 0, \"ticks\": \"\"}}, \"type\": \"scatterpolargl\"}], \"scatterternary\": [{\"marker\": {\"colorbar\": {\"outlinewidth\": 0, \"ticks\": \"\"}}, \"type\": \"scatterternary\"}], \"surface\": [{\"colorbar\": {\"outlinewidth\": 0, \"ticks\": \"\"}, \"colorscale\": [[0.0, \"#0d0887\"], [0.1111111111111111, \"#46039f\"], [0.2222222222222222, \"#7201a8\"], [0.3333333333333333, \"#9c179e\"], [0.4444444444444444, \"#bd3786\"], [0.5555555555555556, \"#d8576b\"], [0.6666666666666666, \"#ed7953\"], [0.7777777777777778, \"#fb9f3a\"], [0.8888888888888888, \"#fdca26\"], [1.0, \"#f0f921\"]], \"type\": \"surface\"}], \"table\": [{\"cells\": {\"fill\": {\"color\": \"#EBF0F8\"}, \"line\": {\"color\": \"white\"}}, \"header\": {\"fill\": {\"color\": \"#C8D4E3\"}, \"line\": {\"color\": \"white\"}}, \"type\": \"table\"}]}, \"layout\": {\"annotationdefaults\": {\"arrowcolor\": \"#2a3f5f\", \"arrowhead\": 0, \"arrowwidth\": 1}, \"coloraxis\": {\"colorbar\": {\"outlinewidth\": 0, \"ticks\": \"\"}}, \"colorscale\": {\"diverging\": [[0, \"#8e0152\"], [0.1, \"#c51b7d\"], [0.2, \"#de77ae\"], [0.3, \"#f1b6da\"], [0.4, \"#fde0ef\"], [0.5, \"#f7f7f7\"], [0.6, \"#e6f5d0\"], [0.7, \"#b8e186\"], [0.8, \"#7fbc41\"], [0.9, \"#4d9221\"], [1, \"#276419\"]], \"sequential\": [[0.0, \"#0d0887\"], [0.1111111111111111, \"#46039f\"], [0.2222222222222222, \"#7201a8\"], [0.3333333333333333, \"#9c179e\"], [0.4444444444444444, \"#bd3786\"], [0.5555555555555556, \"#d8576b\"], [0.6666666666666666, \"#ed7953\"], [0.7777777777777778, \"#fb9f3a\"], [0.8888888888888888, \"#fdca26\"], [1.0, \"#f0f921\"]], \"sequentialminus\": [[0.0, \"#0d0887\"], [0.1111111111111111, \"#46039f\"], [0.2222222222222222, \"#7201a8\"], [0.3333333333333333, \"#9c179e\"], [0.4444444444444444, \"#bd3786\"], [0.5555555555555556, \"#d8576b\"], [0.6666666666666666, \"#ed7953\"], [0.7777777777777778, \"#fb9f3a\"], [0.8888888888888888, \"#fdca26\"], [1.0, \"#f0f921\"]]}, \"colorway\": [\"#636efa\", \"#EF553B\", \"#00cc96\", \"#ab63fa\", \"#FFA15A\", \"#19d3f3\", \"#FF6692\", \"#B6E880\", \"#FF97FF\", \"#FECB52\"], \"font\": {\"color\": \"#2a3f5f\"}, \"geo\": {\"bgcolor\": \"white\", \"lakecolor\": \"white\", \"landcolor\": \"#E5ECF6\", \"showlakes\": true, \"showland\": true, \"subunitcolor\": \"white\"}, \"hoverlabel\": {\"align\": \"left\"}, \"hovermode\": \"closest\", \"mapbox\": {\"style\": \"light\"}, \"paper_bgcolor\": \"white\", \"plot_bgcolor\": \"#E5ECF6\", \"polar\": {\"angularaxis\": {\"gridcolor\": \"white\", \"linecolor\": \"white\", \"ticks\": \"\"}, \"bgcolor\": \"#E5ECF6\", \"radialaxis\": {\"gridcolor\": \"white\", \"linecolor\": \"white\", \"ticks\": \"\"}}, \"scene\": {\"xaxis\": {\"backgroundcolor\": \"#E5ECF6\", \"gridcolor\": \"white\", \"gridwidth\": 2, \"linecolor\": \"white\", \"showbackground\": true, \"ticks\": \"\", \"zerolinecolor\": \"white\"}, \"yaxis\": {\"backgroundcolor\": \"#E5ECF6\", \"gridcolor\": \"white\", \"gridwidth\": 2, \"linecolor\": \"white\", \"showbackground\": true, \"ticks\": \"\", \"zerolinecolor\": \"white\"}, \"zaxis\": {\"backgroundcolor\": \"#E5ECF6\", \"gridcolor\": \"white\", \"gridwidth\": 2, \"linecolor\": \"white\", \"showbackground\": true, \"ticks\": \"\", \"zerolinecolor\": \"white\"}}, \"shapedefaults\": {\"line\": {\"color\": \"#2a3f5f\"}}, \"ternary\": {\"aaxis\": {\"gridcolor\": \"white\", \"linecolor\": \"white\", \"ticks\": \"\"}, \"baxis\": {\"gridcolor\": \"white\", \"linecolor\": \"white\", \"ticks\": \"\"}, \"bgcolor\": \"#E5ECF6\", \"caxis\": {\"gridcolor\": \"white\", \"linecolor\": \"white\", \"ticks\": \"\"}}, \"title\": {\"x\": 0.05}, \"xaxis\": {\"automargin\": true, \"gridcolor\": \"white\", \"linecolor\": \"white\", \"ticks\": \"\", \"title\": {\"standoff\": 15}, \"zerolinecolor\": \"white\", \"zerolinewidth\": 2}, \"yaxis\": {\"automargin\": true, \"gridcolor\": \"white\", \"linecolor\": \"white\", \"ticks\": \"\", \"title\": {\"standoff\": 15}, \"zerolinecolor\": \"white\", \"zerolinewidth\": 2}}}, \"title\": {\"text\": \"Gotowo\\u015b\\u0107 s\\u0142u\\u017cby zdrowia kraju na epidemie COVID-19\"}},\n",
              "                        {\"responsive\": true}\n",
              "                    ).then(function(){\n",
              "                            \n",
              "var gd = document.getElementById('044fbb99-cc33-4880-9186-e8bda6e31177');\n",
              "var x = new MutationObserver(function (mutations, observer) {{\n",
              "        var display = window.getComputedStyle(gd).display;\n",
              "        if (!display || display === 'none') {{\n",
              "            console.log([gd, 'removed!']);\n",
              "            Plotly.purge(gd);\n",
              "            observer.disconnect();\n",
              "        }}\n",
              "}});\n",
              "\n",
              "// Listen for the removal of the full notebook cells\n",
              "var notebookContainer = gd.closest('#notebook-container');\n",
              "if (notebookContainer) {{\n",
              "    x.observe(notebookContainer, {childList: true});\n",
              "}}\n",
              "\n",
              "// Listen for the clearing of the current output cell\n",
              "var outputEl = gd.closest('.output');\n",
              "if (outputEl) {{\n",
              "    x.observe(outputEl, {childList: true});\n",
              "}}\n",
              "\n",
              "                        })\n",
              "                };\n",
              "                \n",
              "            </script>\n",
              "        </div>\n",
              "</body>\n",
              "</html>"
            ]
          },
          "metadata": {
            "tags": []
          }
        }
      ]
    },
    {
      "cell_type": "markdown",
      "metadata": {
        "id": "6qVBD2a__jGG"
      },
      "source": [
        "Podział państw na 3 groupy ryzyka na podstawie wyniku indeksu"
      ]
    },
    {
      "cell_type": "code",
      "metadata": {
        "id": "hkqrKhtmvXo4",
        "colab": {
          "base_uri": "https://localhost:8080/",
          "height": 484
        },
        "outputId": "c64fde7f-91e9-470a-b561-cb8c7c40c2e5"
      },
      "source": [
        "df_I['Risk group'] = np.nan\n",
        "\n",
        "def create_risk_groups( src ):\n",
        "    real_range = real_max - real_min\n",
        "    r = (real_range / 3)\n",
        "    l = len(src['Points'])\n",
        "    for i in range(0,l):\n",
        "        check = src.iloc[i,3]\n",
        "        if (check >= real_min and check <= real_min + r):\n",
        "             risk = 1    \n",
        "        elif (check >= real_min + r and check <= real_min + 2*r):\n",
        "              risk = 2\n",
        "        elif (check >= real_min + 2*r and check <= real_max):\n",
        "              risk = 3\n",
        "        src.iloc[i,4] = risk\n",
        "    return src\n",
        "    \n",
        "df_I =  create_risk_groups(df_I)\n",
        "df_I"
      ],
      "execution_count": null,
      "outputs": [
        {
          "output_type": "execute_result",
          "data": {
            "text/html": [
              "<div>\n",
              "<style scoped>\n",
              "    .dataframe tbody tr th:only-of-type {\n",
              "        vertical-align: middle;\n",
              "    }\n",
              "\n",
              "    .dataframe tbody tr th {\n",
              "        vertical-align: top;\n",
              "    }\n",
              "\n",
              "    .dataframe thead th {\n",
              "        text-align: right;\n",
              "    }\n",
              "</style>\n",
              "<table border=\"1\" class=\"dataframe\">\n",
              "  <thead>\n",
              "    <tr style=\"text-align: right;\">\n",
              "      <th></th>\n",
              "      <th>Medical doctors (per 10 000 population)</th>\n",
              "      <th>Hospital beds (per 10 000 population)</th>\n",
              "      <th>Current health expenditure (CHE) per capita in US$</th>\n",
              "      <th>Points</th>\n",
              "      <th>Risk group</th>\n",
              "    </tr>\n",
              "    <tr>\n",
              "      <th>Country</th>\n",
              "      <th></th>\n",
              "      <th></th>\n",
              "      <th></th>\n",
              "      <th></th>\n",
              "      <th></th>\n",
              "    </tr>\n",
              "  </thead>\n",
              "  <tbody>\n",
              "    <tr>\n",
              "      <th>Afghanistan</th>\n",
              "      <td>1.155881</td>\n",
              "      <td>1.243781</td>\n",
              "      <td>0.218294</td>\n",
              "      <td>2.617957</td>\n",
              "      <td>1.0</td>\n",
              "    </tr>\n",
              "    <tr>\n",
              "      <th>Algeria</th>\n",
              "      <td>7.448107</td>\n",
              "      <td>4.726368</td>\n",
              "      <td>0.840970</td>\n",
              "      <td>13.015446</td>\n",
              "      <td>1.0</td>\n",
              "    </tr>\n",
              "    <tr>\n",
              "      <th>Angola</th>\n",
              "      <td>0.874644</td>\n",
              "      <td>1.990050</td>\n",
              "      <td>0.372499</td>\n",
              "      <td>3.237193</td>\n",
              "      <td>1.0</td>\n",
              "    </tr>\n",
              "    <tr>\n",
              "      <th>Antigua and Barbuda</th>\n",
              "      <td>11.252340</td>\n",
              "      <td>9.452736</td>\n",
              "      <td>2.192379</td>\n",
              "      <td>22.897455</td>\n",
              "      <td>2.0</td>\n",
              "    </tr>\n",
              "    <tr>\n",
              "      <th>Argentina</th>\n",
              "      <td>16.117216</td>\n",
              "      <td>12.437811</td>\n",
              "      <td>4.309282</td>\n",
              "      <td>32.864309</td>\n",
              "      <td>2.0</td>\n",
              "    </tr>\n",
              "    <tr>\n",
              "      <th>...</th>\n",
              "      <td>...</td>\n",
              "      <td>...</td>\n",
              "      <td>...</td>\n",
              "      <td>...</td>\n",
              "      <td>...</td>\n",
              "    </tr>\n",
              "    <tr>\n",
              "      <th>Uruguay</th>\n",
              "      <td>20.553114</td>\n",
              "      <td>6.965174</td>\n",
              "      <td>5.177580</td>\n",
              "      <td>32.695867</td>\n",
              "      <td>2.0</td>\n",
              "    </tr>\n",
              "    <tr>\n",
              "      <th>Uzbekistan</th>\n",
              "      <td>9.639805</td>\n",
              "      <td>9.950249</td>\n",
              "      <td>0.321423</td>\n",
              "      <td>19.911477</td>\n",
              "      <td>1.0</td>\n",
              "    </tr>\n",
              "    <tr>\n",
              "      <th>Viet Nam</th>\n",
              "      <td>3.336996</td>\n",
              "      <td>6.467662</td>\n",
              "      <td>0.421624</td>\n",
              "      <td>10.226282</td>\n",
              "      <td>1.0</td>\n",
              "    </tr>\n",
              "    <tr>\n",
              "      <th>Zambia</th>\n",
              "      <td>0.371591</td>\n",
              "      <td>4.975124</td>\n",
              "      <td>0.219921</td>\n",
              "      <td>5.566637</td>\n",
              "      <td>1.0</td>\n",
              "    </tr>\n",
              "    <tr>\n",
              "      <th>Zimbabwe</th>\n",
              "      <td>0.310541</td>\n",
              "      <td>4.228856</td>\n",
              "      <td>0.358185</td>\n",
              "      <td>4.897582</td>\n",
              "      <td>1.0</td>\n",
              "    </tr>\n",
              "  </tbody>\n",
              "</table>\n",
              "<p>156 rows × 5 columns</p>\n",
              "</div>"
            ],
            "text/plain": [
              "                     Medical doctors (per 10 000 population)  ...  Risk group\n",
              "Country                                                       ...            \n",
              "Afghanistan                                         1.155881  ...         1.0\n",
              "Algeria                                             7.448107  ...         1.0\n",
              "Angola                                              0.874644  ...         1.0\n",
              "Antigua and Barbuda                                11.252340  ...         2.0\n",
              "Argentina                                          16.117216  ...         2.0\n",
              "...                                                      ...  ...         ...\n",
              "Uruguay                                            20.553114  ...         2.0\n",
              "Uzbekistan                                          9.639805  ...         1.0\n",
              "Viet Nam                                            3.336996  ...         1.0\n",
              "Zambia                                              0.371591  ...         1.0\n",
              "Zimbabwe                                            0.310541  ...         1.0\n",
              "\n",
              "[156 rows x 5 columns]"
            ]
          },
          "metadata": {
            "tags": []
          },
          "execution_count": 60
        }
      ]
    },
    {
      "cell_type": "code",
      "metadata": {
        "id": "a6Af5MF5UG-x",
        "colab": {
          "base_uri": "https://localhost:8080/",
          "height": 542
        },
        "outputId": "7aa6ecf9-d98e-49de-d97f-5852173b06ac"
      },
      "source": [
        "fig2 = px.choropleth(df_I, \n",
        "                    locations = df_I.index, \n",
        "                    locationmode = 'country names',\n",
        "                    color = df_I['Risk group'], \n",
        "                    #scope =\"europe\",   \n",
        "                    color_continuous_scale=[\"red\", \"yellow\", \"green\"],              \n",
        "                    projection=\"natural earth\", \n",
        "                    title='Gotowość służby zdrowia kraju na epidemie COVID-19',\n",
        "                    labels={'Risk group'},)\n",
        "                  \n",
        "fig2.show()"
      ],
      "execution_count": null,
      "outputs": [
        {
          "output_type": "display_data",
          "data": {
            "text/html": [
              "<html>\n",
              "<head><meta charset=\"utf-8\" /></head>\n",
              "<body>\n",
              "    <div>\n",
              "            <script src=\"https://cdnjs.cloudflare.com/ajax/libs/mathjax/2.7.5/MathJax.js?config=TeX-AMS-MML_SVG\"></script><script type=\"text/javascript\">if (window.MathJax) {MathJax.Hub.Config({SVG: {font: \"STIX-Web\"}});}</script>\n",
              "                <script type=\"text/javascript\">window.PlotlyConfig = {MathJaxConfig: 'local'};</script>\n",
              "        <script src=\"https://cdn.plot.ly/plotly-latest.min.js\"></script>    \n",
              "            <div id=\"dde25026-3477-4c52-a11b-5dde119c32ce\" class=\"plotly-graph-div\" style=\"height:525px; width:100%;\"></div>\n",
              "            <script type=\"text/javascript\">\n",
              "                \n",
              "                    window.PLOTLYENV=window.PLOTLYENV || {};\n",
              "                    \n",
              "                if (document.getElementById(\"dde25026-3477-4c52-a11b-5dde119c32ce\")) {\n",
              "                    Plotly.newPlot(\n",
              "                        'dde25026-3477-4c52-a11b-5dde119c32ce',\n",
              "                        [{\"coloraxis\": \"coloraxis\", \"geo\": \"geo\", \"hoverlabel\": {\"namelength\": 0}, \"hovertemplate\": \"locations=%{location}<br>Risk group=%{z}\", \"locationmode\": \"country names\", \"locations\": [\"Afghanistan\", \"Algeria\", \"Angola\", \"Antigua and Barbuda\", \"Argentina\", \"Armenia\", \"Australia\", \"Azerbaijan\", \"Bahamas\", \"Bahrain\", \"Bangladesh\", \"Barbados\", \"Belarus\", \"Belgium\", \"Belize\", \"Benin\", \"Bhutan\", \"Bolivia (Plurinational State of)\", \"Botswana\", \"Brazil\", \"Brunei Darussalam\", \"Bulgaria\", \"Burkina Faso\", \"Burundi\", \"Cambodia\", \"Canada\", \"Central African Republic\", \"Chad\", \"Chile\", \"China\", \"Colombia\", \"Comoros\", \"Cook Islands\", \"C\\u00f4te d'Ivoire\", \"Croatia\", \"Cuba\", \"Cyprus\", \"Czechia\", \"Democratic Republic of the Congo\", \"Denmark\", \"Djibouti\", \"Dominican Republic\", \"Ecuador\", \"Egypt\", \"Equatorial Guinea\", \"Estonia\", \"Eswatini\", \"Ethiopia\", \"Fiji\", \"Finland\", \"France\", \"Gabon\", \"Gambia\", \"Georgia\", \"Germany\", \"Ghana\", \"Greece\", \"Grenada\", \"Guatemala\", \"Guinea\", \"Guinea-Bissau\", \"Guyana\", \"Haiti\", \"Honduras\", \"Hungary\", \"Iceland\", \"India\", \"Indonesia\", \"Iran (Islamic Republic of)\", \"Iraq\", \"Ireland\", \"Israel\", \"Italy\", \"Jamaica\", \"Japan\", \"Jordan\", \"Kazakhstan\", \"Kenya\", \"Kuwait\", \"Kyrgyzstan\", \"Lao People's Democratic Republic\", \"Latvia\", \"Lebanon\", \"Lesotho\", \"Liberia\", \"Luxembourg\", \"Malawi\", \"Malaysia\", \"Maldives\", \"Mali\", \"Malta\", \"Mauritania\", \"Mauritius\", \"Mexico\", \"Mongolia\", \"Morocco\", \"Mozambique\", \"Myanmar\", \"Namibia\", \"Nauru\", \"Nepal\", \"Netherlands\", \"Nicaragua\", \"Niger\", \"Nigeria\", \"Niue\", \"Norway\", \"Oman\", \"Pakistan\", \"Panama\", \"Paraguay\", \"Peru\", \"Poland\", \"Portugal\", \"Qatar\", \"Republic of Korea\", \"Republic of Moldova\", \"Romania\", \"Russian Federation\", \"Rwanda\", \"Saint Vincent and the Grenadines\", \"Sao Tome and Principe\", \"Saudi Arabia\", \"Senegal\", \"Serbia\", \"Seychelles\", \"Singapore\", \"Slovakia\", \"Slovenia\", \"Solomon Islands\", \"South Africa\", \"Spain\", \"Sri Lanka\", \"Sudan\", \"Suriname\", \"Sweden\", \"Switzerland\", \"Tajikistan\", \"Thailand\", \"Republic of North Macedonia\", \"Timor-Leste\", \"Togo\", \"Tunisia\", \"Turkmenistan\", \"Tuvalu\", \"Uganda\", \"Ukraine\", \"United Arab Emirates\", \"United Kingdom of Great Britain and Northern Ireland\", \"United Republic of Tanzania\", \"United States of America\", \"Uruguay\", \"Uzbekistan\", \"Viet Nam\", \"Zambia\", \"Zimbabwe\"], \"name\": \"\", \"type\": \"choropleth\", \"z\": [1.0, 1.0, 1.0, 2.0, 2.0, 2.0, 3.0, 2.0, 1.0, 1.0, 1.0, 2.0, 3.0, 3.0, 1.0, 1.0, 1.0, 1.0, 1.0, 1.0, 1.0, 2.0, 1.0, 1.0, 1.0, 2.0, 1.0, 1.0, 1.0, 1.0, 1.0, 1.0, 2.0, 1.0, 2.0, 3.0, 2.0, 2.0, 1.0, 3.0, 1.0, 1.0, 1.0, 1.0, 1.0, 2.0, 1.0, 1.0, 1.0, 2.0, 3.0, 1.0, 1.0, 2.0, 3.0, 1.0, 2.0, 1.0, 1.0, 1.0, 1.0, 1.0, 1.0, 1.0, 2.0, 3.0, 1.0, 1.0, 1.0, 1.0, 2.0, 2.0, 2.0, 1.0, 3.0, 1.0, 2.0, 1.0, 1.0, 1.0, 1.0, 2.0, 1.0, 1.0, 1.0, 3.0, 1.0, 1.0, 1.0, 1.0, 2.0, 1.0, 1.0, 1.0, 2.0, 1.0, 1.0, 1.0, 1.0, 2.0, 1.0, 3.0, 1.0, 1.0, 1.0, 2.0, 3.0, 1.0, 1.0, 1.0, 1.0, 1.0, 2.0, 2.0, 1.0, 3.0, 2.0, 2.0, 2.0, 1.0, 1.0, 1.0, 1.0, 1.0, 2.0, 1.0, 2.0, 2.0, 2.0, 1.0, 1.0, 2.0, 1.0, 1.0, 1.0, 3.0, 3.0, 1.0, 1.0, 2.0, 1.0, 1.0, 1.0, 2.0, 1.0, 1.0, 2.0, 1.0, 2.0, 1.0, 3.0, 2.0, 1.0, 1.0, 1.0, 1.0]}],\n",
              "                        {\"coloraxis\": {\"colorbar\": {\"title\": {\"text\": \"Risk group\"}}, \"colorscale\": [[0.0, \"red\"], [0.5, \"yellow\"], [1.0, \"green\"]]}, \"geo\": {\"center\": {}, \"domain\": {\"x\": [0.0, 1.0], \"y\": [0.0, 1.0]}, \"projection\": {\"type\": \"natural earth\"}}, \"legend\": {\"tracegroupgap\": 0}, \"template\": {\"data\": {\"bar\": [{\"error_x\": {\"color\": \"#2a3f5f\"}, \"error_y\": {\"color\": \"#2a3f5f\"}, \"marker\": {\"line\": {\"color\": \"#E5ECF6\", \"width\": 0.5}}, \"type\": \"bar\"}], \"barpolar\": [{\"marker\": {\"line\": {\"color\": \"#E5ECF6\", \"width\": 0.5}}, \"type\": \"barpolar\"}], \"carpet\": [{\"aaxis\": {\"endlinecolor\": \"#2a3f5f\", \"gridcolor\": \"white\", \"linecolor\": \"white\", \"minorgridcolor\": \"white\", \"startlinecolor\": \"#2a3f5f\"}, \"baxis\": {\"endlinecolor\": \"#2a3f5f\", \"gridcolor\": \"white\", \"linecolor\": \"white\", \"minorgridcolor\": \"white\", \"startlinecolor\": \"#2a3f5f\"}, \"type\": \"carpet\"}], \"choropleth\": [{\"colorbar\": {\"outlinewidth\": 0, \"ticks\": \"\"}, \"type\": \"choropleth\"}], \"contour\": [{\"colorbar\": {\"outlinewidth\": 0, \"ticks\": \"\"}, \"colorscale\": [[0.0, \"#0d0887\"], [0.1111111111111111, \"#46039f\"], [0.2222222222222222, \"#7201a8\"], [0.3333333333333333, \"#9c179e\"], [0.4444444444444444, \"#bd3786\"], [0.5555555555555556, \"#d8576b\"], [0.6666666666666666, \"#ed7953\"], [0.7777777777777778, \"#fb9f3a\"], [0.8888888888888888, \"#fdca26\"], [1.0, \"#f0f921\"]], \"type\": \"contour\"}], \"contourcarpet\": [{\"colorbar\": {\"outlinewidth\": 0, \"ticks\": \"\"}, \"type\": \"contourcarpet\"}], \"heatmap\": [{\"colorbar\": {\"outlinewidth\": 0, \"ticks\": \"\"}, \"colorscale\": [[0.0, \"#0d0887\"], [0.1111111111111111, \"#46039f\"], [0.2222222222222222, \"#7201a8\"], [0.3333333333333333, \"#9c179e\"], [0.4444444444444444, \"#bd3786\"], [0.5555555555555556, \"#d8576b\"], [0.6666666666666666, \"#ed7953\"], [0.7777777777777778, \"#fb9f3a\"], [0.8888888888888888, \"#fdca26\"], [1.0, \"#f0f921\"]], \"type\": \"heatmap\"}], \"heatmapgl\": [{\"colorbar\": {\"outlinewidth\": 0, \"ticks\": \"\"}, \"colorscale\": [[0.0, \"#0d0887\"], [0.1111111111111111, \"#46039f\"], [0.2222222222222222, \"#7201a8\"], [0.3333333333333333, \"#9c179e\"], [0.4444444444444444, \"#bd3786\"], [0.5555555555555556, \"#d8576b\"], [0.6666666666666666, \"#ed7953\"], [0.7777777777777778, \"#fb9f3a\"], [0.8888888888888888, \"#fdca26\"], [1.0, \"#f0f921\"]], \"type\": \"heatmapgl\"}], \"histogram\": [{\"marker\": {\"colorbar\": {\"outlinewidth\": 0, \"ticks\": \"\"}}, \"type\": \"histogram\"}], \"histogram2d\": [{\"colorbar\": {\"outlinewidth\": 0, \"ticks\": \"\"}, \"colorscale\": [[0.0, \"#0d0887\"], [0.1111111111111111, \"#46039f\"], [0.2222222222222222, \"#7201a8\"], [0.3333333333333333, \"#9c179e\"], [0.4444444444444444, \"#bd3786\"], [0.5555555555555556, \"#d8576b\"], [0.6666666666666666, \"#ed7953\"], [0.7777777777777778, \"#fb9f3a\"], [0.8888888888888888, \"#fdca26\"], [1.0, \"#f0f921\"]], \"type\": \"histogram2d\"}], \"histogram2dcontour\": [{\"colorbar\": {\"outlinewidth\": 0, \"ticks\": \"\"}, \"colorscale\": [[0.0, \"#0d0887\"], [0.1111111111111111, \"#46039f\"], [0.2222222222222222, \"#7201a8\"], [0.3333333333333333, \"#9c179e\"], [0.4444444444444444, \"#bd3786\"], [0.5555555555555556, \"#d8576b\"], [0.6666666666666666, \"#ed7953\"], [0.7777777777777778, \"#fb9f3a\"], [0.8888888888888888, \"#fdca26\"], [1.0, \"#f0f921\"]], \"type\": \"histogram2dcontour\"}], \"mesh3d\": [{\"colorbar\": {\"outlinewidth\": 0, \"ticks\": \"\"}, \"type\": \"mesh3d\"}], \"parcoords\": [{\"line\": {\"colorbar\": {\"outlinewidth\": 0, \"ticks\": \"\"}}, \"type\": \"parcoords\"}], \"pie\": [{\"automargin\": true, \"type\": \"pie\"}], \"scatter\": [{\"marker\": {\"colorbar\": {\"outlinewidth\": 0, \"ticks\": \"\"}}, \"type\": \"scatter\"}], \"scatter3d\": [{\"line\": {\"colorbar\": {\"outlinewidth\": 0, \"ticks\": \"\"}}, \"marker\": {\"colorbar\": {\"outlinewidth\": 0, \"ticks\": \"\"}}, \"type\": \"scatter3d\"}], \"scattercarpet\": [{\"marker\": {\"colorbar\": {\"outlinewidth\": 0, \"ticks\": \"\"}}, \"type\": \"scattercarpet\"}], \"scattergeo\": [{\"marker\": {\"colorbar\": {\"outlinewidth\": 0, \"ticks\": \"\"}}, \"type\": \"scattergeo\"}], \"scattergl\": [{\"marker\": {\"colorbar\": {\"outlinewidth\": 0, \"ticks\": \"\"}}, \"type\": \"scattergl\"}], \"scattermapbox\": [{\"marker\": {\"colorbar\": {\"outlinewidth\": 0, \"ticks\": \"\"}}, \"type\": \"scattermapbox\"}], \"scatterpolar\": [{\"marker\": {\"colorbar\": {\"outlinewidth\": 0, \"ticks\": \"\"}}, \"type\": \"scatterpolar\"}], \"scatterpolargl\": [{\"marker\": {\"colorbar\": {\"outlinewidth\": 0, \"ticks\": \"\"}}, \"type\": \"scatterpolargl\"}], \"scatterternary\": [{\"marker\": {\"colorbar\": {\"outlinewidth\": 0, \"ticks\": \"\"}}, \"type\": \"scatterternary\"}], \"surface\": [{\"colorbar\": {\"outlinewidth\": 0, \"ticks\": \"\"}, \"colorscale\": [[0.0, \"#0d0887\"], [0.1111111111111111, \"#46039f\"], [0.2222222222222222, \"#7201a8\"], [0.3333333333333333, \"#9c179e\"], [0.4444444444444444, \"#bd3786\"], [0.5555555555555556, \"#d8576b\"], [0.6666666666666666, \"#ed7953\"], [0.7777777777777778, \"#fb9f3a\"], [0.8888888888888888, \"#fdca26\"], [1.0, \"#f0f921\"]], \"type\": \"surface\"}], \"table\": [{\"cells\": {\"fill\": {\"color\": \"#EBF0F8\"}, \"line\": {\"color\": \"white\"}}, \"header\": {\"fill\": {\"color\": \"#C8D4E3\"}, \"line\": {\"color\": \"white\"}}, \"type\": \"table\"}]}, \"layout\": {\"annotationdefaults\": {\"arrowcolor\": \"#2a3f5f\", \"arrowhead\": 0, \"arrowwidth\": 1}, \"coloraxis\": {\"colorbar\": {\"outlinewidth\": 0, \"ticks\": \"\"}}, \"colorscale\": {\"diverging\": [[0, \"#8e0152\"], [0.1, \"#c51b7d\"], [0.2, \"#de77ae\"], [0.3, \"#f1b6da\"], [0.4, \"#fde0ef\"], [0.5, \"#f7f7f7\"], [0.6, \"#e6f5d0\"], [0.7, \"#b8e186\"], [0.8, \"#7fbc41\"], [0.9, \"#4d9221\"], [1, \"#276419\"]], \"sequential\": [[0.0, \"#0d0887\"], [0.1111111111111111, \"#46039f\"], [0.2222222222222222, \"#7201a8\"], [0.3333333333333333, \"#9c179e\"], [0.4444444444444444, \"#bd3786\"], [0.5555555555555556, \"#d8576b\"], [0.6666666666666666, \"#ed7953\"], [0.7777777777777778, \"#fb9f3a\"], [0.8888888888888888, \"#fdca26\"], [1.0, \"#f0f921\"]], \"sequentialminus\": [[0.0, \"#0d0887\"], [0.1111111111111111, \"#46039f\"], [0.2222222222222222, \"#7201a8\"], [0.3333333333333333, \"#9c179e\"], [0.4444444444444444, \"#bd3786\"], [0.5555555555555556, \"#d8576b\"], [0.6666666666666666, \"#ed7953\"], [0.7777777777777778, \"#fb9f3a\"], [0.8888888888888888, \"#fdca26\"], [1.0, \"#f0f921\"]]}, \"colorway\": [\"#636efa\", \"#EF553B\", \"#00cc96\", \"#ab63fa\", \"#FFA15A\", \"#19d3f3\", \"#FF6692\", \"#B6E880\", \"#FF97FF\", \"#FECB52\"], \"font\": {\"color\": \"#2a3f5f\"}, \"geo\": {\"bgcolor\": \"white\", \"lakecolor\": \"white\", \"landcolor\": \"#E5ECF6\", \"showlakes\": true, \"showland\": true, \"subunitcolor\": \"white\"}, \"hoverlabel\": {\"align\": \"left\"}, \"hovermode\": \"closest\", \"mapbox\": {\"style\": \"light\"}, \"paper_bgcolor\": \"white\", \"plot_bgcolor\": \"#E5ECF6\", \"polar\": {\"angularaxis\": {\"gridcolor\": \"white\", \"linecolor\": \"white\", \"ticks\": \"\"}, \"bgcolor\": \"#E5ECF6\", \"radialaxis\": {\"gridcolor\": \"white\", \"linecolor\": \"white\", \"ticks\": \"\"}}, \"scene\": {\"xaxis\": {\"backgroundcolor\": \"#E5ECF6\", \"gridcolor\": \"white\", \"gridwidth\": 2, \"linecolor\": \"white\", \"showbackground\": true, \"ticks\": \"\", \"zerolinecolor\": \"white\"}, \"yaxis\": {\"backgroundcolor\": \"#E5ECF6\", \"gridcolor\": \"white\", \"gridwidth\": 2, \"linecolor\": \"white\", \"showbackground\": true, \"ticks\": \"\", \"zerolinecolor\": \"white\"}, \"zaxis\": {\"backgroundcolor\": \"#E5ECF6\", \"gridcolor\": \"white\", \"gridwidth\": 2, \"linecolor\": \"white\", \"showbackground\": true, \"ticks\": \"\", \"zerolinecolor\": \"white\"}}, \"shapedefaults\": {\"line\": {\"color\": \"#2a3f5f\"}}, \"ternary\": {\"aaxis\": {\"gridcolor\": \"white\", \"linecolor\": \"white\", \"ticks\": \"\"}, \"baxis\": {\"gridcolor\": \"white\", \"linecolor\": \"white\", \"ticks\": \"\"}, \"bgcolor\": \"#E5ECF6\", \"caxis\": {\"gridcolor\": \"white\", \"linecolor\": \"white\", \"ticks\": \"\"}}, \"title\": {\"x\": 0.05}, \"xaxis\": {\"automargin\": true, \"gridcolor\": \"white\", \"linecolor\": \"white\", \"ticks\": \"\", \"title\": {\"standoff\": 15}, \"zerolinecolor\": \"white\", \"zerolinewidth\": 2}, \"yaxis\": {\"automargin\": true, \"gridcolor\": \"white\", \"linecolor\": \"white\", \"ticks\": \"\", \"title\": {\"standoff\": 15}, \"zerolinecolor\": \"white\", \"zerolinewidth\": 2}}}, \"title\": {\"text\": \"Gotowo\\u015b\\u0107 s\\u0142u\\u017cby zdrowia kraju na epidemie COVID-19\"}},\n",
              "                        {\"responsive\": true}\n",
              "                    ).then(function(){\n",
              "                            \n",
              "var gd = document.getElementById('dde25026-3477-4c52-a11b-5dde119c32ce');\n",
              "var x = new MutationObserver(function (mutations, observer) {{\n",
              "        var display = window.getComputedStyle(gd).display;\n",
              "        if (!display || display === 'none') {{\n",
              "            console.log([gd, 'removed!']);\n",
              "            Plotly.purge(gd);\n",
              "            observer.disconnect();\n",
              "        }}\n",
              "}});\n",
              "\n",
              "// Listen for the removal of the full notebook cells\n",
              "var notebookContainer = gd.closest('#notebook-container');\n",
              "if (notebookContainer) {{\n",
              "    x.observe(notebookContainer, {childList: true});\n",
              "}}\n",
              "\n",
              "// Listen for the clearing of the current output cell\n",
              "var outputEl = gd.closest('.output');\n",
              "if (outputEl) {{\n",
              "    x.observe(outputEl, {childList: true});\n",
              "}}\n",
              "\n",
              "                        })\n",
              "                };\n",
              "                \n",
              "            </script>\n",
              "        </div>\n",
              "</body>\n",
              "</html>"
            ]
          },
          "metadata": {
            "tags": []
          }
        }
      ]
    },
    {
      "cell_type": "markdown",
      "metadata": {
        "id": "5MrrvCh0jvdG"
      },
      "source": [
        "## Analiza danych na temat epidemi koronawirusa z wykorzystaniem prototypu Indeksu\n"
      ]
    },
    {
      "cell_type": "markdown",
      "metadata": {
        "id": "njZNtCdxLp3h"
      },
      "source": [
        "Modyfikacja tabel w celu otrzymania lepszej przejżystości"
      ]
    },
    {
      "cell_type": "code",
      "metadata": {
        "id": "Z-aswSIfTVT9"
      },
      "source": [
        "def fix( reader ):    \n",
        "    df = reader.rename({'Country/Region': 'Country'}, axis=1)    \n",
        "    df = df.melt(id_vars=['Country','Province/State','Lat','Long'],value_name='Cases',var_name='Date')\n",
        "    df = df.set_index(['Country','Province/State','Date'])\n",
        "    df = df.drop(df.columns[0:2], axis = 1)\n",
        "    return df\n",
        "\n",
        "df_Infected = fix(read_Confirmed)"
      ],
      "execution_count": null,
      "outputs": []
    },
    {
      "cell_type": "markdown",
      "metadata": {
        "id": "1V4ihQ4VoDTT"
      },
      "source": [
        "Wytypowanie krajów, które są w szczycie przebiegu epidemi\n"
      ]
    },
    {
      "cell_type": "code",
      "metadata": {
        "id": "jUjs6i1Ajjt3",
        "colab": {
          "base_uri": "https://localhost:8080/",
          "height": 359
        },
        "outputId": "11c2bb46-4bfd-4ba7-c9be-06140ca570e7"
      },
      "source": [
        "most_affected_countries = df_Infected.reset_index().groupby(['Cases'], as_index = False).max()\n",
        "most_affected_countries = most_affected_countries.drop_duplicates(subset=['Country'], keep='last').tail(10)\n",
        "most_affected_countries "
      ],
      "execution_count": null,
      "outputs": [
        {
          "output_type": "execute_result",
          "data": {
            "text/html": [
              "<div>\n",
              "<style scoped>\n",
              "    .dataframe tbody tr th:only-of-type {\n",
              "        vertical-align: middle;\n",
              "    }\n",
              "\n",
              "    .dataframe tbody tr th {\n",
              "        vertical-align: top;\n",
              "    }\n",
              "\n",
              "    .dataframe thead th {\n",
              "        text-align: right;\n",
              "    }\n",
              "</style>\n",
              "<table border=\"1\" class=\"dataframe\">\n",
              "  <thead>\n",
              "    <tr style=\"text-align: right;\">\n",
              "      <th></th>\n",
              "      <th>Cases</th>\n",
              "      <th>Country</th>\n",
              "      <th>Date</th>\n",
              "    </tr>\n",
              "  </thead>\n",
              "  <tbody>\n",
              "    <tr>\n",
              "      <th>1080</th>\n",
              "      <td>9762</td>\n",
              "      <td>Netherlands</td>\n",
              "      <td>3/28/20</td>\n",
              "    </tr>\n",
              "    <tr>\n",
              "      <th>1101</th>\n",
              "      <td>14076</td>\n",
              "      <td>Switzerland</td>\n",
              "      <td>3/28/20</td>\n",
              "    </tr>\n",
              "    <tr>\n",
              "      <th>1109</th>\n",
              "      <td>17089</td>\n",
              "      <td>United Kingdom</td>\n",
              "      <td>3/28/20</td>\n",
              "    </tr>\n",
              "    <tr>\n",
              "      <th>1150</th>\n",
              "      <td>35408</td>\n",
              "      <td>Iran</td>\n",
              "      <td>3/28/20</td>\n",
              "    </tr>\n",
              "    <tr>\n",
              "      <th>1153</th>\n",
              "      <td>37575</td>\n",
              "      <td>France</td>\n",
              "      <td>3/28/20</td>\n",
              "    </tr>\n",
              "    <tr>\n",
              "      <th>1166</th>\n",
              "      <td>57695</td>\n",
              "      <td>Germany</td>\n",
              "      <td>3/28/20</td>\n",
              "    </tr>\n",
              "    <tr>\n",
              "      <th>1203</th>\n",
              "      <td>67801</td>\n",
              "      <td>China</td>\n",
              "      <td>3/28/20</td>\n",
              "    </tr>\n",
              "    <tr>\n",
              "      <th>1205</th>\n",
              "      <td>73235</td>\n",
              "      <td>Spain</td>\n",
              "      <td>3/28/20</td>\n",
              "    </tr>\n",
              "    <tr>\n",
              "      <th>1210</th>\n",
              "      <td>92472</td>\n",
              "      <td>Italy</td>\n",
              "      <td>3/28/20</td>\n",
              "    </tr>\n",
              "    <tr>\n",
              "      <th>1212</th>\n",
              "      <td>121478</td>\n",
              "      <td>US</td>\n",
              "      <td>3/28/20</td>\n",
              "    </tr>\n",
              "  </tbody>\n",
              "</table>\n",
              "</div>"
            ],
            "text/plain": [
              "       Cases         Country     Date\n",
              "1080    9762     Netherlands  3/28/20\n",
              "1101   14076     Switzerland  3/28/20\n",
              "1109   17089  United Kingdom  3/28/20\n",
              "1150   35408            Iran  3/28/20\n",
              "1153   37575          France  3/28/20\n",
              "1166   57695         Germany  3/28/20\n",
              "1203   67801           China  3/28/20\n",
              "1205   73235           Spain  3/28/20\n",
              "1210   92472           Italy  3/28/20\n",
              "1212  121478              US  3/28/20"
            ]
          },
          "metadata": {
            "tags": []
          },
          "execution_count": 63
        }
      ]
    },
    {
      "cell_type": "code",
      "metadata": {
        "id": "AZqS-z9_M09v",
        "colab": {
          "base_uri": "https://localhost:8080/",
          "height": 34
        },
        "outputId": "1fe64042-82fa-4ff0-9c0b-b8229a121e55"
      },
      "source": [
        "list_of_countires = list((most_affected_countries['Country'].tolist()))\n",
        "print(list_of_countires)"
      ],
      "execution_count": null,
      "outputs": [
        {
          "output_type": "stream",
          "text": [
            "['Netherlands', 'Switzerland', 'United Kingdom', 'Iran', 'France', 'Germany', 'China', 'Spain', 'Italy', 'US']\n"
          ],
          "name": "stdout"
        }
      ]
    },
    {
      "cell_type": "code",
      "metadata": {
        "id": "AbmsWo_v-pq-"
      },
      "source": [
        "list_for_barchart = list((most_affected_countries['Country'].tolist()))\n",
        "list_for_barchart[2] = \"United Kingdom of Great Britain and Northern Ireland\"\n",
        "list_for_barchart[9] = \"United States of America\"\n",
        "list_for_barchart[3] = \"Iran (Islamic Republic of)\""
      ],
      "execution_count": null,
      "outputs": []
    },
    {
      "cell_type": "code",
      "metadata": {
        "id": "fRsNECOabR59",
        "colab": {
          "base_uri": "https://localhost:8080/",
          "height": 562
        },
        "outputId": "472dc748-34aa-44ed-9d30-96efc8ea8ce1"
      },
      "source": [
        "def draw_bar():\n",
        "    plt.figure(figsize=(12,8))\n",
        "    height = most_affected_countries['Cases']\n",
        "    bars = list_of_countires\n",
        "    y_pos = np.arange(len(list_of_countires))\n",
        "    plt.bar(y_pos, height, label='Liczba przypadków koronawirusa' )\n",
        "    plt.xticks(y_pos, bars, rotation=45)\n",
        "    plt.show()  \n",
        "\n",
        "draw_bar()\n",
        " "
      ],
      "execution_count": null,
      "outputs": [
        {
          "output_type": "display_data",
          "data": {
            "image/png": "[encoded data removed]",
            "text/plain": [
              "<Figure size 864x576 with 1 Axes>"
            ]
          },
          "metadata": {
            "tags": []
          }
        }
      ]
    },
    {
      "cell_type": "markdown",
      "metadata": {
        "id": "glC1jY1oFfj9"
      },
      "source": [
        "Pobranie wartości indesku 10 państ i przypisanie im koloru\n",
        "\n",
        "\n"
      ]
    },
    {
      "cell_type": "code",
      "metadata": {
        "id": "YHdwc2__-3eD"
      },
      "source": [
        "def get_risk( src ):\n",
        "    risk = list()\n",
        "    colors = list()\n",
        "    for i in range(0, len(list_for_barchart)):\n",
        "        risk.append(  src.loc[list_for_barchart[i]]['Risk group'] )\n",
        "        if (risk[i].astype(float) == 1.0 ):\n",
        "            colors.append( 'r' )\n",
        "        elif (risk[i].astype(float)  == 2.0):\n",
        "            colors.append( 'y' )\n",
        "        elif (risk[i].astype(float)  == 3.0):\n",
        "            colors.append( 'g' )\n",
        "    return risk,colors\n",
        "\n",
        "risk_list , risk_colors = get_risk(df_I) "
      ],
      "execution_count": null,
      "outputs": []
    },
    {
      "cell_type": "code",
      "metadata": {
        "id": "ckINqy-RJXlV",
        "colab": {
          "base_uri": "https://localhost:8080/",
          "height": 34
        },
        "outputId": "c359b27e-d8c5-4441-f185-c8b87cfd188c"
      },
      "source": [
        "risk_list"
      ],
      "execution_count": null,
      "outputs": [
        {
          "output_type": "execute_result",
          "data": {
            "text/plain": [
              "[3.0, 3.0, 2.0, 1.0, 3.0, 3.0, 1.0, 2.0, 2.0, 3.0]"
            ]
          },
          "metadata": {
            "tags": []
          },
          "execution_count": 67
        }
      ]
    },
    {
      "cell_type": "code",
      "metadata": {
        "id": "C1t5cnr-JZ2j",
        "colab": {
          "base_uri": "https://localhost:8080/",
          "height": 34
        },
        "outputId": "0c9acc0b-bbc4-4e23-8b91-e3d8e286e08f"
      },
      "source": [
        "risk_colors"
      ],
      "execution_count": null,
      "outputs": [
        {
          "output_type": "execute_result",
          "data": {
            "text/plain": [
              "['g', 'g', 'y', 'r', 'g', 'g', 'r', 'y', 'y', 'g']"
            ]
          },
          "metadata": {
            "tags": []
          },
          "execution_count": 68
        }
      ]
    },
    {
      "cell_type": "code",
      "metadata": {
        "id": "43CAmoPr-80f",
        "colab": {
          "base_uri": "https://localhost:8080/",
          "height": 537
        },
        "outputId": "6f93b491-4507-4f99-97c4-3ad6c607b3c2"
      },
      "source": [
        "def draw_bar():\n",
        "    plt.figure(figsize=(12,8))\n",
        "    height = most_affected_countries['Cases']\n",
        "    bars = list_of_countires\n",
        "    y_pos = np.arange(len(list_of_countires))\n",
        "    plt.bar(y_pos, height, color = risk_colors, label='Liczba przypadków koronawirusa' )\n",
        "    plt.xticks(y_pos, bars, rotation=45)\n",
        "    plt.show()  \n",
        "\n",
        "draw_bar()\n",
        " "
      ],
      "execution_count": null,
      "outputs": [
        {
          "output_type": "display_data",
          "data": {
            "image/png": "[encoded data removed]",
            "text/plain": [
              "<Figure size 864x576 with 1 Axes>"
            ]
          },
          "metadata": {
            "tags": []
          }
        }
      ]
    },
    {
      "cell_type": "markdown",
      "metadata": {
        "id": "tNosBQ1PhaI4"
      },
      "source": [
        "Wyznaczanie rozwoju liczby zachorowań w kolejnych dniach dla 10 państw będących w szczycie epidemi\n"
      ]
    },
    {
      "cell_type": "code",
      "metadata": {
        "id": "pD2iSBzKty9g",
        "colab": {
          "base_uri": "https://localhost:8080/",
          "height": 487
        },
        "outputId": "49fd822f-3335-434c-b62e-6cf0dc684acb"
      },
      "source": [
        "def ten_countries( src ):\n",
        "    \n",
        "    base = src.loc[list_of_countires[0]]\n",
        "    for i in range(1,len(list_of_countires)):\n",
        "         pre = \"_\"\n",
        "         nam1 = str(pre + list_of_countires[i-1])\n",
        "         nam2 = str(pre + list_of_countires[i])\n",
        "         base = pd.merge(base, src.loc[list_of_countires[i]], on='Date', suffixes=(nam1 ,nam2))\n",
        "         list_of_countires[i-1] = \"Cases\" + nam1\n",
        "    list_of_countires[i] = \"Cases\" + nam2\n",
        "    return base\n",
        "\n",
        "time_series = ten_countries(df_Infected)\n",
        "time_series "
      ],
      "execution_count": null,
      "outputs": [
        {
          "output_type": "execute_result",
          "data": {
            "text/html": [
              "<div>\n",
              "<style scoped>\n",
              "    .dataframe tbody tr th:only-of-type {\n",
              "        vertical-align: middle;\n",
              "    }\n",
              "\n",
              "    .dataframe tbody tr th {\n",
              "        vertical-align: top;\n",
              "    }\n",
              "\n",
              "    .dataframe thead th {\n",
              "        text-align: right;\n",
              "    }\n",
              "</style>\n",
              "<table border=\"1\" class=\"dataframe\">\n",
              "  <thead>\n",
              "    <tr style=\"text-align: right;\">\n",
              "      <th></th>\n",
              "      <th>Cases_Netherlands</th>\n",
              "      <th>Cases_Switzerland</th>\n",
              "      <th>Cases_United Kingdom</th>\n",
              "      <th>Cases_Iran</th>\n",
              "      <th>Cases_France</th>\n",
              "      <th>Cases_Germany</th>\n",
              "      <th>Cases_China</th>\n",
              "      <th>Cases_Spain</th>\n",
              "      <th>Cases_Italy</th>\n",
              "      <th>Cases_US</th>\n",
              "    </tr>\n",
              "    <tr>\n",
              "      <th>Date</th>\n",
              "      <th></th>\n",
              "      <th></th>\n",
              "      <th></th>\n",
              "      <th></th>\n",
              "      <th></th>\n",
              "      <th></th>\n",
              "      <th></th>\n",
              "      <th></th>\n",
              "      <th></th>\n",
              "      <th></th>\n",
              "    </tr>\n",
              "  </thead>\n",
              "  <tbody>\n",
              "    <tr>\n",
              "      <th>1/22/20</th>\n",
              "      <td>0</td>\n",
              "      <td>0</td>\n",
              "      <td>0</td>\n",
              "      <td>0</td>\n",
              "      <td>0</td>\n",
              "      <td>0</td>\n",
              "      <td>1</td>\n",
              "      <td>0</td>\n",
              "      <td>0</td>\n",
              "      <td>1</td>\n",
              "    </tr>\n",
              "    <tr>\n",
              "      <th>1/22/20</th>\n",
              "      <td>0</td>\n",
              "      <td>0</td>\n",
              "      <td>0</td>\n",
              "      <td>0</td>\n",
              "      <td>0</td>\n",
              "      <td>0</td>\n",
              "      <td>14</td>\n",
              "      <td>0</td>\n",
              "      <td>0</td>\n",
              "      <td>1</td>\n",
              "    </tr>\n",
              "    <tr>\n",
              "      <th>1/22/20</th>\n",
              "      <td>0</td>\n",
              "      <td>0</td>\n",
              "      <td>0</td>\n",
              "      <td>0</td>\n",
              "      <td>0</td>\n",
              "      <td>0</td>\n",
              "      <td>6</td>\n",
              "      <td>0</td>\n",
              "      <td>0</td>\n",
              "      <td>1</td>\n",
              "    </tr>\n",
              "    <tr>\n",
              "      <th>1/22/20</th>\n",
              "      <td>0</td>\n",
              "      <td>0</td>\n",
              "      <td>0</td>\n",
              "      <td>0</td>\n",
              "      <td>0</td>\n",
              "      <td>0</td>\n",
              "      <td>1</td>\n",
              "      <td>0</td>\n",
              "      <td>0</td>\n",
              "      <td>1</td>\n",
              "    </tr>\n",
              "    <tr>\n",
              "      <th>1/22/20</th>\n",
              "      <td>0</td>\n",
              "      <td>0</td>\n",
              "      <td>0</td>\n",
              "      <td>0</td>\n",
              "      <td>0</td>\n",
              "      <td>0</td>\n",
              "      <td>0</td>\n",
              "      <td>0</td>\n",
              "      <td>0</td>\n",
              "      <td>1</td>\n",
              "    </tr>\n",
              "    <tr>\n",
              "      <th>...</th>\n",
              "      <td>...</td>\n",
              "      <td>...</td>\n",
              "      <td>...</td>\n",
              "      <td>...</td>\n",
              "      <td>...</td>\n",
              "      <td>...</td>\n",
              "      <td>...</td>\n",
              "      <td>...</td>\n",
              "      <td>...</td>\n",
              "      <td>...</td>\n",
              "    </tr>\n",
              "    <tr>\n",
              "      <th>3/28/20</th>\n",
              "      <td>9762</td>\n",
              "      <td>14076</td>\n",
              "      <td>4</td>\n",
              "      <td>35408</td>\n",
              "      <td>37575</td>\n",
              "      <td>57695</td>\n",
              "      <td>161</td>\n",
              "      <td>73235</td>\n",
              "      <td>92472</td>\n",
              "      <td>121478</td>\n",
              "    </tr>\n",
              "    <tr>\n",
              "      <th>3/28/20</th>\n",
              "      <td>9762</td>\n",
              "      <td>14076</td>\n",
              "      <td>4</td>\n",
              "      <td>35408</td>\n",
              "      <td>37575</td>\n",
              "      <td>57695</td>\n",
              "      <td>1</td>\n",
              "      <td>73235</td>\n",
              "      <td>92472</td>\n",
              "      <td>121478</td>\n",
              "    </tr>\n",
              "    <tr>\n",
              "      <th>3/28/20</th>\n",
              "      <td>9762</td>\n",
              "      <td>14076</td>\n",
              "      <td>4</td>\n",
              "      <td>35408</td>\n",
              "      <td>37575</td>\n",
              "      <td>57695</td>\n",
              "      <td>76</td>\n",
              "      <td>73235</td>\n",
              "      <td>92472</td>\n",
              "      <td>121478</td>\n",
              "    </tr>\n",
              "    <tr>\n",
              "      <th>3/28/20</th>\n",
              "      <td>9762</td>\n",
              "      <td>14076</td>\n",
              "      <td>4</td>\n",
              "      <td>35408</td>\n",
              "      <td>37575</td>\n",
              "      <td>57695</td>\n",
              "      <td>180</td>\n",
              "      <td>73235</td>\n",
              "      <td>92472</td>\n",
              "      <td>121478</td>\n",
              "    </tr>\n",
              "    <tr>\n",
              "      <th>3/28/20</th>\n",
              "      <td>9762</td>\n",
              "      <td>14076</td>\n",
              "      <td>4</td>\n",
              "      <td>35408</td>\n",
              "      <td>37575</td>\n",
              "      <td>57695</td>\n",
              "      <td>1251</td>\n",
              "      <td>73235</td>\n",
              "      <td>92472</td>\n",
              "      <td>121478</td>\n",
              "    </tr>\n",
              "  </tbody>\n",
              "</table>\n",
              "<p>884400 rows × 10 columns</p>\n",
              "</div>"
            ],
            "text/plain": [
              "         Cases_Netherlands  Cases_Switzerland  ...  Cases_Italy  Cases_US\n",
              "Date                                           ...                       \n",
              "1/22/20                  0                  0  ...            0         1\n",
              "1/22/20                  0                  0  ...            0         1\n",
              "1/22/20                  0                  0  ...            0         1\n",
              "1/22/20                  0                  0  ...            0         1\n",
              "1/22/20                  0                  0  ...            0         1\n",
              "...                    ...                ...  ...          ...       ...\n",
              "3/28/20               9762              14076  ...        92472    121478\n",
              "3/28/20               9762              14076  ...        92472    121478\n",
              "3/28/20               9762              14076  ...        92472    121478\n",
              "3/28/20               9762              14076  ...        92472    121478\n",
              "3/28/20               9762              14076  ...        92472    121478\n",
              "\n",
              "[884400 rows x 10 columns]"
            ]
          },
          "metadata": {
            "tags": []
          },
          "execution_count": 70
        }
      ]
    },
    {
      "cell_type": "code",
      "metadata": {
        "id": "qSvNMC74yiX6",
        "colab": {
          "base_uri": "https://localhost:8080/",
          "height": 514
        },
        "outputId": "6b1ad032-49e0-4208-dc1e-f35a33a01f42"
      },
      "source": [
        "time_series.plot( y =[ list_of_countires[9], list_of_countires[8], list_of_countires[3]] , figsize=(12, 8), kind = 'line' , color = [risk_colors[9], risk_colors[8], risk_colors[3] ]   )"
      ],
      "execution_count": null,
      "outputs": [
        {
          "output_type": "execute_result",
          "data": {
            "text/plain": [
              "<matplotlib.axes._subplots.AxesSubplot at 0x7f48600cd8d0>"
            ]
          },
          "metadata": {
            "tags": []
          },
          "execution_count": 71
        },
        {
          "output_type": "display_data",
          "data": {
            "image/png": "[encoded data removed]",
            "text/plain": [
              "<Figure size 864x576 with 1 Axes>"
            ]
          },
          "metadata": {
            "tags": []
          }
        }
      ]
    },
    {
      "cell_type": "markdown",
      "metadata": {
        "id": "xYurT3H4MnEo"
      },
      "source": [
        "Dane na temat "
      ]
    },
    {
      "cell_type": "code",
      "metadata": {
        "id": "sJ5KgD5eLLVG",
        "colab": {
          "base_uri": "https://localhost:8080/",
          "height": 119
        },
        "outputId": "d46e276b-4ed0-4095-a24f-1364dcda7eb6"
      },
      "source": [
        "df_I.loc[\"Poland\"]"
      ],
      "execution_count": null,
      "outputs": [
        {
          "output_type": "execute_result",
          "data": {
            "text/plain": [
              "Medical doctors (per 10 000 population)                9.767196\n",
              "Hospital beds (per 10 000 population)                 16.169154\n",
              "Current health expenditure (CHE) per capita in US$     2.950066\n",
              "Points                                                28.886416\n",
              "Risk group                                             2.000000\n",
              "Name: Poland, dtype: float64"
            ]
          },
          "metadata": {
            "tags": []
          },
          "execution_count": 72
        }
      ]
    },
    {
      "cell_type": "code",
      "metadata": {
        "id": "5tMF6FoRML-t",
        "colab": {
          "base_uri": "https://localhost:8080/",
          "height": 94
        },
        "outputId": "5bfde3eb-83ec-4cfa-85fb-cda9429ffb47"
      },
      "source": [
        "poland = df_Infected.loc[\"Poland\"]\n",
        "poland = poland.groupby(['Cases']).max().tail(1)\n",
        "poland"
      ],
      "execution_count": null,
      "outputs": [
        {
          "output_type": "execute_result",
          "data": {
            "text/html": [
              "<div>\n",
              "<style scoped>\n",
              "    .dataframe tbody tr th:only-of-type {\n",
              "        vertical-align: middle;\n",
              "    }\n",
              "\n",
              "    .dataframe tbody tr th {\n",
              "        vertical-align: top;\n",
              "    }\n",
              "\n",
              "    .dataframe thead th {\n",
              "        text-align: right;\n",
              "    }\n",
              "</style>\n",
              "<table border=\"1\" class=\"dataframe\">\n",
              "  <thead>\n",
              "    <tr style=\"text-align: right;\">\n",
              "      <th></th>\n",
              "    </tr>\n",
              "    <tr>\n",
              "      <th>Cases</th>\n",
              "    </tr>\n",
              "  </thead>\n",
              "  <tbody>\n",
              "    <tr>\n",
              "      <th>1638</th>\n",
              "    </tr>\n",
              "  </tbody>\n",
              "</table>\n",
              "</div>"
            ],
            "text/plain": [
              "Empty DataFrame\n",
              "Columns: []\n",
              "Index: [1638]"
            ]
          },
          "metadata": {
            "tags": []
          },
          "execution_count": 80
        }
      ]
    },
    {
      "cell_type": "code",
      "metadata": {
        "id": "gTA98wm3af-Z"
      },
      "source": [
        ""
      ],
      "execution_count": null,
      "outputs": []
    }
  ]
}